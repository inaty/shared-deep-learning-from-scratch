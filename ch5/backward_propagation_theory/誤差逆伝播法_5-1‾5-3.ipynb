{
 "cells": [
  {
   "cell_type": "markdown",
   "metadata": {},
   "source": [
    "# 5章 誤差逆伝播法"
   ]
  },
  {
   "cell_type": "markdown",
   "metadata": {},
   "source": [
    "- 数値微分はシンプルだけど，計算に時間がかかる\n",
    "- それを効率的に行う「誤差逆伝播法」を紹介\n",
    "- 「数式」ではなく「計算グラフ」で視覚的に誤差逆伝播法を理解する\n",
    "    - andrej Karpathy のブログ\n",
    "    - スタンフォード大学のディープラーニングの授業「CS231n」"
   ]
  },
  {
   "cell_type": "markdown",
   "metadata": {},
   "source": [
    "## 5.1 計算グラフ"
   ]
  },
  {
   "cell_type": "markdown",
   "metadata": {},
   "source": [
    "- 計算の過程をグラフによって表したもの\n",
    "- ノードとエッジで構成される\n",
    "    - ノード：点\n",
    "    - エッジ：線"
   ]
  },
  {
   "cell_type": "markdown",
   "metadata": {},
   "source": [
    "### 5.1.1 計算グラフで解く"
   ]
  },
  {
   "cell_type": "markdown",
   "metadata": {},
   "source": [
    "- 問1. 太郎くんはスーパーで1個100円のリンゴを2個買いました．支払う金額を求めなさい．ただし，消費税が10%適用されるものとします．"
   ]
  },
  {
   "cell_type": "markdown",
   "metadata": {},
   "source": [
    "計算グラフでは，掛け算をこのように書くことができる．"
   ]
  },
  {
   "cell_type": "markdown",
   "metadata": {},
   "source": [
    "<img src=\"images/5_1.JPG\">"
   ]
  },
  {
   "cell_type": "markdown",
   "metadata": {},
   "source": [
    "また「リンゴの個数」と「消費税」を変数としておくと，こんな風になる．"
   ]
  },
  {
   "cell_type": "markdown",
   "metadata": {},
   "source": [
    "<img src=\"images/5_2.JPG\">"
   ]
  },
  {
   "cell_type": "markdown",
   "metadata": {},
   "source": [
    "- 問2. 太郎くんはスーパーでリンゴを2個，みかんを3個買いました．リンゴは1個100円，みかんは1個150円です．消費税が10%かかるものとして，支払う金額を求めなさい．"
   ]
  },
  {
   "cell_type": "markdown",
   "metadata": {},
   "source": [
    "この問題を解く計算グラフ書いてみましょう．"
   ]
  },
  {
   "cell_type": "markdown",
   "metadata": {},
   "source": [
    "答え<hidden img src=\"images/5_3.JPG\">"
   ]
  },
  {
   "cell_type": "markdown",
   "metadata": {},
   "source": [
    "ここまでの流れを見ると，計算グラフを使って問題を解くには\n",
    "- 計算グラフを構築する\n",
    "- 計算グラフ上で計算を左から右へ進める"
   ]
  },
  {
   "cell_type": "markdown",
   "metadata": {},
   "source": [
    "この「計算を左から右へ進める」ことを「順伝搬」"
   ]
  },
  {
   "cell_type": "markdown",
   "metadata": {},
   "source": [
    "この逆方向への伝搬も考えることができて，それを「逆伝搬」"
   ]
  },
  {
   "cell_type": "markdown",
   "metadata": {},
   "source": [
    "「逆伝搬」はこの先の微分の計算に重要な働きをする"
   ]
  },
  {
   "cell_type": "markdown",
   "metadata": {},
   "source": [
    "### 5.1.2 局所的な計算"
   ]
  },
  {
   "cell_type": "markdown",
   "metadata": {},
   "source": [
    "- 計算グラフの特徴：「局所的な計算」を伝搬することによって最終的な結果を得ることができる\n",
    "    - 4,200 という数字の計算には 4,000 や 200 がどうやって計算されてきたかを考える必要がない"
   ]
  },
  {
   "cell_type": "markdown",
   "metadata": {},
   "source": [
    "ひとつひとつは単純な計算でも，最終的に複雑な計算の結果を得ることができる"
   ]
  },
  {
   "cell_type": "markdown",
   "metadata": {},
   "source": [
    "<img src=\"images/5_4.JPG\">"
   ]
  },
  {
   "cell_type": "markdown",
   "metadata": {},
   "source": [
    "### 5.1.3 なぜ計算グラフで解くのか？"
   ]
  },
  {
   "cell_type": "markdown",
   "metadata": {},
   "source": [
    "- 問題を単純化できる\n",
    "- 途中の計算の結果を保持することができる"
   ]
  },
  {
   "cell_type": "markdown",
   "metadata": {},
   "source": [
    "でもここで一番大事なのは\n",
    "- 「微分」を効率よく計算できること"
   ]
  },
  {
   "cell_type": "markdown",
   "metadata": {},
   "source": [
    "問1をもう一度使って"
   ]
  },
  {
   "cell_type": "markdown",
   "metadata": {},
   "source": [
    "「リンゴの値段が値上がりした場合，最終的な支払金額にどのように影響するか」->「リンゴの値段に関する支払金額の微分」"
   ]
  },
  {
   "cell_type": "markdown",
   "metadata": {},
   "source": [
    "を考えてみると，計算グラフでの微分の結果は線の下の値のようになる．"
   ]
  },
  {
   "cell_type": "markdown",
   "metadata": {},
   "source": [
    "<img src=\"images/5_5.JPG\">"
   ]
  },
  {
   "cell_type": "markdown",
   "metadata": {},
   "source": [
    "このように途中の計算の結果（ここでは 1.1）を利用して，より手前の微分の値（ここでは 2.2）を求めることができる．"
   ]
  },
  {
   "cell_type": "markdown",
   "metadata": {},
   "source": [
    "## 5.2 連鎖律"
   ]
  },
  {
   "cell_type": "markdown",
   "metadata": {},
   "source": [
    "「逆伝搬」の計算は「局所的な微分」を右から左へ伝達することで行われる．"
   ]
  },
  {
   "cell_type": "markdown",
   "metadata": {},
   "source": [
    "この「局所的な微分」を伝達する原理は「連鎖律」によるもの．"
   ]
  },
  {
   "cell_type": "markdown",
   "metadata": {},
   "source": [
    "### 5.2.1 計算グラフの逆伝搬"
   ]
  },
  {
   "cell_type": "markdown",
   "metadata": {},
   "source": [
    "- $y = f\\left(x\\right)$ の逆伝搬"
   ]
  },
  {
   "cell_type": "markdown",
   "metadata": {},
   "source": [
    "<img src=\"images/5_6.JPG\">"
   ]
  },
  {
   "cell_type": "markdown",
   "metadata": {},
   "source": []
  },
  {
   "cell_type": "markdown",
   "metadata": {},
   "source": [
    "### 5.2.2 連鎖律とは"
   ]
  },
  {
   "cell_type": "markdown",
   "metadata": {},
   "source": [
    "#### 連鎖律（Chain rule）の説明には，合成関数が必要"
   ]
  },
  {
   "cell_type": "markdown",
   "metadata": {},
   "source": [
    "- 合成関数：複数の関数によって構成される関数"
   ]
  },
  {
   "cell_type": "markdown",
   "metadata": {},
   "source": [
    "例えばこんな関数は"
   ]
  },
  {
   "cell_type": "markdown",
   "metadata": {},
   "source": [
    "$$z = (x + y)^2$$"
   ]
  },
  {
   "cell_type": "markdown",
   "metadata": {},
   "source": [
    "こんな風に2つの式に分けられる．"
   ]
  },
  {
   "cell_type": "markdown",
   "metadata": {},
   "source": [
    "$$z = t^2$$\n",
    "$$t = x+ y$$"
   ]
  },
  {
   "cell_type": "markdown",
   "metadata": {},
   "source": [
    "連鎖律とは合成関数の微分についての性質（連鎖率の原理）：\n",
    "- ある関数が合成関数で表される場合，その合成関数の微分は，合成関数を構成するそれぞれの関数の微分の積によって表すことができる．"
   ]
  },
  {
   "cell_type": "markdown",
   "metadata": {},
   "source": [
    "式で書くと次のように表される．"
   ]
  },
  {
   "cell_type": "markdown",
   "metadata": {},
   "source": [
    "$$\\frac{\\partial z}{\\partial x} = \\frac{\\partial z}{\\partial t} \\frac{\\partial t}{\\partial x}$$"
   ]
  },
  {
   "cell_type": "markdown",
   "metadata": {},
   "source": [
    "#### 連鎖律を使って $\\frac{\\partial z}{\\partial x}$ を計算してみる"
   ]
  },
  {
   "cell_type": "markdown",
   "metadata": {},
   "source": [
    "分けた式の微分をそれぞれ求める．"
   ]
  },
  {
   "cell_type": "markdown",
   "metadata": {},
   "source": [
    "$$\\frac{\\partial z}{\\partial t} = \\frac{\\partial}{\\partial t} t^2 = 2 t$$"
   ]
  },
  {
   "cell_type": "markdown",
   "metadata": {},
   "source": [
    "$$\\frac{\\partial t}{\\partial x} = \\frac{\\partial}{\\partial x} \\left( x + y \\right) = 1$$"
   ]
  },
  {
   "cell_type": "markdown",
   "metadata": {},
   "source": [
    "これらの結果を使うと，簡単に $\\frac{\\partial z}{\\partial x}$ が計算できる．"
   ]
  },
  {
   "cell_type": "markdown",
   "metadata": {},
   "source": [
    "$$\\frac{\\partial z}{\\partial x} = \\frac{\\partial z}{\\partial t} \\frac{\\partial t}{\\partial x} = 2t \\cdot 1 = 2 \\left( x + y \\right)$$"
   ]
  },
  {
   "cell_type": "markdown",
   "metadata": {},
   "source": [
    "### 5.2.3 連鎖律と計算グラフ"
   ]
  },
  {
   "cell_type": "markdown",
   "metadata": {},
   "source": [
    "先程行った連鎖率を使った計算を，計算グラフを用いて表すと図5-7のようになる．"
   ]
  },
  {
   "cell_type": "markdown",
   "metadata": {},
   "source": [
    "<img src=\"images/5_7.JPG\">"
   ]
  },
  {
   "cell_type": "markdown",
   "metadata": {},
   "source": [
    "具体的な計算結果を当てはめると図5-8のようになる．"
   ]
  },
  {
   "cell_type": "markdown",
   "metadata": {},
   "source": [
    "<img src=\"images/5_8.JPG\">"
   ]
  },
  {
   "cell_type": "markdown",
   "metadata": {},
   "source": [
    "## 5.3 逆伝搬"
   ]
  },
  {
   "cell_type": "markdown",
   "metadata": {},
   "source": [
    "「+」や「×」などの演算を例に，逆伝搬の仕組みについて見ていく．"
   ]
  },
  {
   "cell_type": "markdown",
   "metadata": {},
   "source": [
    "### 5.3.1 加算ノードの逆伝搬"
   ]
  },
  {
   "cell_type": "markdown",
   "metadata": {},
   "source": [
    "#### $z = x + y$ の逆伝搬をみていく"
   ]
  },
  {
   "cell_type": "markdown",
   "metadata": {},
   "source": [
    "まずは微分．"
   ]
  },
  {
   "cell_type": "markdown",
   "metadata": {},
   "source": [
    "$$ \\frac{\\partial z}{\\partial x} = 1$$"
   ]
  },
  {
   "cell_type": "markdown",
   "metadata": {},
   "source": [
    "$$ \\frac{\\partial z}{\\partial y} = 1$$"
   ]
  },
  {
   "cell_type": "markdown",
   "metadata": {},
   "source": [
    "この結果を使って，上流から伝わった値 $L$ の $z$ に関する微分を計算すると図5-9のようになる．"
   ]
  },
  {
   "cell_type": "markdown",
   "metadata": {},
   "source": [
    "計算グラフの下流には，どちらもそのまま $\\frac{\\partial L}{\\partial z}$ が流れる．"
   ]
  },
  {
   "cell_type": "markdown",
   "metadata": {},
   "source": [
    "<img src=\"images/5_9.JPG\">"
   ]
  },
  {
   "cell_type": "markdown",
   "metadata": {},
   "source": [
    "実際にはこんな風に「何らかの計算」の途中に存在することが多い．「何らかの計算」がどんなに複雑であっても，先程と同じように $\\frac{\\partial L}{\\partial z}$ を下流に流すだけでよい．"
   ]
  },
  {
   "cell_type": "markdown",
   "metadata": {},
   "source": [
    "<img src=\"images/5_10.JPG\">"
   ]
  },
  {
   "cell_type": "markdown",
   "metadata": {},
   "source": [
    "数値例 $x = 10, y = 5$ では，図5-11のようになる．※$\\frac{\\partial L}{\\partial z} = 1.3$"
   ]
  },
  {
   "cell_type": "markdown",
   "metadata": {},
   "source": [
    "<img src=\"images/5_11.JPG\">"
   ]
  },
  {
   "cell_type": "markdown",
   "metadata": {},
   "source": [
    "### 5.3.2 乗算ノードの逆伝搬"
   ]
  },
  {
   "cell_type": "markdown",
   "metadata": {},
   "source": [
    "#### $z = xy$ の逆伝搬をみていく"
   ]
  },
  {
   "cell_type": "markdown",
   "metadata": {},
   "source": [
    "まずは微分．"
   ]
  },
  {
   "cell_type": "markdown",
   "metadata": {},
   "source": [
    "$$ \\frac{\\partial z}{\\partial x} = y$$"
   ]
  },
  {
   "cell_type": "markdown",
   "metadata": {},
   "source": [
    "$$ \\frac{\\partial z}{\\partial y} = x$$"
   ]
  },
  {
   "cell_type": "markdown",
   "metadata": {},
   "source": [
    "この結果を使って，上流から伝わった値 $L$ の $z$ に関する微分を計算すると図5-12のようになる．"
   ]
  },
  {
   "cell_type": "markdown",
   "metadata": {},
   "source": [
    "<img src=\"images/5_12.JPG\">"
   ]
  },
  {
   "cell_type": "markdown",
   "metadata": {},
   "source": [
    "数値例 $x = 10, y = 5$ では，図5-13のようになる．※$\\frac{\\partial L}{\\partial z} = 1.3$"
   ]
  },
  {
   "cell_type": "markdown",
   "metadata": {},
   "source": [
    "<img src=\"images/5_13.JPG\">"
   ]
  },
  {
   "cell_type": "markdown",
   "metadata": {},
   "source": [
    "### 5.3.3 リンゴの例"
   ]
  },
  {
   "cell_type": "markdown",
   "metadata": {},
   "source": [
    "#### 3つの変数（リンゴの値段，個数，消費税）それぞれが最終的な支払金額にどのように影響するか"
   ]
  },
  {
   "cell_type": "markdown",
   "metadata": {},
   "source": [
    "- リンゴの値段：リンゴの値段に関する支払金額の微分\n",
    "- リンゴの個数：リンゴの個数に関する支払金額の微分\n",
    "- 消費税：消費税に関する支払金額の微分"
   ]
  },
  {
   "cell_type": "markdown",
   "metadata": {},
   "source": [
    "計算グラフでの計算結果は図5-14のようになる．"
   ]
  },
  {
   "cell_type": "markdown",
   "metadata": {},
   "source": [
    "消費税に関する微分の値が特に大きく，支払金額への影響が他よりも大きいことを示している．"
   ]
  },
  {
   "cell_type": "markdown",
   "metadata": {},
   "source": [
    "<img src=\"images/5_14.JPG\">"
   ]
  },
  {
   "cell_type": "markdown",
   "metadata": {},
   "source": [
    "#### 練習問題"
   ]
  },
  {
   "cell_type": "markdown",
   "metadata": {},
   "source": [
    "<img src=\"images/5_15.JPG\">"
   ]
  },
  {
   "cell_type": "code",
   "execution_count": null,
   "metadata": {},
   "outputs": [],
   "source": []
  },
  {
   "cell_type": "code",
   "execution_count": null,
   "metadata": {},
   "outputs": [],
   "source": []
  }
 ],
 "metadata": {
  "kernelspec": {
   "display_name": "Python 3",
   "language": "python",
   "name": "python3"
  },
  "language_info": {
   "codemirror_mode": {
    "name": "ipython",
    "version": 3
   },
   "file_extension": ".py",
   "mimetype": "text/x-python",
   "name": "python",
   "nbconvert_exporter": "python",
   "pygments_lexer": "ipython3",
   "version": "3.8.5"
  }
 },
 "nbformat": 4,
 "nbformat_minor": 4
}
