{
 "cells": [
  {
   "cell_type": "markdown",
   "metadata": {},
   "source": [
    "## 6.3 Batch Normalization"
   ]
  },
  {
   "cell_type": "markdown",
   "metadata": {},
   "source": [
    "- 前節では「重みの初期値を適切に設定すれば，各層のアクティベーションの分布は適度な広がりを持ち，学習がスムーズに行える」ということを学んだ\n",
    "- この節ではそのアクティベーション分布を強制的に調整してみる手法 Batch Normalization を紹介する"
   ]
  },
  {
   "cell_type": "markdown",
   "metadata": {},
   "source": [
    "### 6.3.1 Batch Normalization のアルゴリズム"
   ]
  },
  {
   "cell_type": "markdown",
   "metadata": {},
   "source": [
    "- 2015 年に提案された手法\n",
    "- 派生手法もたくさんあるようです\n",
    "- コンペなどで優れた結果を残している例でよく見かける（というよりほぼ必ず？）"
   ]
  },
  {
   "cell_type": "markdown",
   "metadata": {},
   "source": [
    "#### Batch Normalization の利点\n",
    "- 学習を速く進行させることができる（学習係数を大きくすることができる）\n",
    "- 初期値にそれほど依存しない（初期値に対してそこまで神経質にならなくてよい）\n",
    "    - この前あった「フレームワークによって同じネットワーク・初期値でもうまく収束したりしなかったりする」問題がなくなる？\n",
    "- 過学習を抑制する（Dropout などの必要性を減らす）\n",
    "    - 逆に今 Dropout って使われているんですかね？あまり見かけない気がします．"
   ]
  },
  {
   "cell_type": "markdown",
   "metadata": {},
   "source": [
    "#### Batch Normalization のアイデア\n",
    "- 各層でのアクティベーション分布を，適度な広がりを持つように調整すること"
   ]
  },
  {
   "cell_type": "markdown",
   "metadata": {},
   "source": [
    "#### Batch Normalization の使い方\n",
    "- データ分布の正規化を行うレイヤをニューラルネットワークに挿入して使う（図6-16）"
   ]
  },
  {
   "cell_type": "markdown",
   "metadata": {},
   "source": [
    "#### 定義式"
   ]
  },
  {
   "cell_type": "markdown",
   "metadata": {},
   "source": [
    "ミニバッチ\n",
    "$$\n",
    "B = {x_1, x_2, ..., x_m}\n",
    "$$\n",
    "に対して"
   ]
  },
  {
   "cell_type": "markdown",
   "metadata": {},
   "source": [
    "$$\n",
    "\\mu_B = \\frac{1}{m} \\sum_{i=1}^{m}{x_i}\n",
    "$$"
   ]
  },
  {
   "cell_type": "markdown",
   "metadata": {},
   "source": [
    "$$\n",
    "\\sigma_B^2 = \\frac{1}{m} \\sum_{i=1}^{m}{\\left( x_i - \\mu_B \\right)^2}\n",
    "$$"
   ]
  },
  {
   "cell_type": "markdown",
   "metadata": {},
   "source": [
    "$$\n",
    "\\hat{x}_i = \\frac{x_i - \\mu_B}{\\sqrt{\\sigma_B^2 + \\epsilon}}\n",
    "$$"
   ]
  },
  {
   "cell_type": "markdown",
   "metadata": {},
   "source": [
    "式で行っていることは，\n",
    "- ミニバッチの入力データ ${x1, x2, .., x_m}$ を，平均0，分散1のデータ ${\\hat{x}_1, \\hat{x}_2, ..., \\hat{x}_m}$ に変換する\n",
    "\n",
    "こと．"
   ]
  },
  {
   "cell_type": "markdown",
   "metadata": {},
   "source": [
    "ここからさらに 正規化された ${\\hat{x}_i}$ に対して，固有のスケール $\\gamma$ とシフト $\\beta$ で変換を行う．"
   ]
  },
  {
   "cell_type": "markdown",
   "metadata": {},
   "source": [
    "$$\n",
    "y_i = \\gamma \\hat{x}_i + \\beta\n",
    "$$"
   ]
  },
  {
   "cell_type": "markdown",
   "metadata": {},
   "source": [
    "$\\gamma$, $\\beta$ はパラメータ，$\\gamma = 1, \\beta = 0$ を初期値としてこれまでの全結合層と同様に学習を行う．（$\\gamma$, $\\beta$ はスカラでない場合もある）"
   ]
  },
  {
   "cell_type": "markdown",
   "metadata": {},
   "source": [
    "微分の導出が意外と大変なんですね..."
   ]
  },
  {
   "cell_type": "markdown",
   "metadata": {},
   "source": [
    "#### 数値例"
   ]
  },
  {
   "cell_type": "markdown",
   "metadata": {},
   "source": [
    "##### BatchNormalization なし"
   ]
  },
  {
   "cell_type": "code",
   "execution_count": 1,
   "metadata": {},
   "outputs": [],
   "source": [
    "from collections import OrderedDict\n",
    "\n",
    "import numpy as np\n",
    "np.random.seed(7)\n",
    "import matplotlib.pyplot as plt\n",
    "import tqdm\n",
    "from sklearn import datasets\n",
    "from sklearn.model_selection import train_test_split\n",
    "\n",
    "from network import trainer\n",
    "from network import visualizer\n",
    "from network import layers as L\n",
    "from network import functions as F\n",
    "from network.module import SequenceNet"
   ]
  },
  {
   "cell_type": "code",
   "execution_count": 2,
   "metadata": {},
   "outputs": [],
   "source": [
    "# loading training data\n",
    "load = datasets.load_digits\n",
    "X, y = load(return_X_y=True)\n",
    "# from sklearn.datasets import fetch_openml\n",
    "# X, y = fetch_openml('mnist_784', return_X_y=True)\n",
    "X_train, X_test, y_train, y_test = train_test_split(X, y.astype(\"int\"), test_size=0.3)\n",
    "\n",
    "feature_size = X_train.shape[1]\n",
    "num_classes = int(np.max(y)) + 1\n",
    "Y_train = np.eye(num_classes)[y_train]\n",
    "Y_test = np.eye(num_classes)[y_test]"
   ]
  },
  {
   "cell_type": "code",
   "execution_count": 3,
   "metadata": {},
   "outputs": [],
   "source": [
    "# training parameters\n",
    "num_epoch = 100\n",
    "batch_size = 8\n",
    "lr = 0.01\n",
    "l1 = 0.000\n",
    "l2 = 0.000"
   ]
  },
  {
   "cell_type": "code",
   "execution_count": 4,
   "metadata": {},
   "outputs": [],
   "source": [
    "# network definition\n",
    "neuron_size = 200\n",
    "sequence = [\n",
    "    L.Linear(n_in=feature_size, n_out=neuron_size),\n",
    "    L.ReLU(),\n",
    "    L.Linear(n_in=neuron_size, n_out=num_classes),\n",
    "]\n",
    "net = SequenceNet(layers=sequence, loss=L.SoftmaxCrossEntropy(), l1=l1, l2=l2)"
   ]
  },
  {
   "cell_type": "code",
   "execution_count": 5,
   "metadata": {},
   "outputs": [
    {
     "name": "stderr",
     "output_type": "stream",
     "text": [
      "epoch    99: 100%|██████████| 100/100 [00:16<00:00,  6.20it/s, loss_train=-9.96e-8, acc_train=1, loss_test=0.599, acc_test=0.959]  "
     ]
    },
    {
     "name": "stdout",
     "output_type": "stream",
     "text": [
      "sum_weights_abs: 11766.328\n",
      "sum_weights_pow2: 14675.081\n"
     ]
    },
    {
     "name": "stderr",
     "output_type": "stream",
     "text": [
      "\n"
     ]
    }
   ],
   "source": [
    "# train network\n",
    "loss_train, acc_train, loss_test, acc_test, histories = trainer.train(\n",
    "    net=net, X_train=X_train, Y_train=Y_train, X_test=X_test, Y_test=Y_test,\n",
    "    num_epoch=num_epoch, batch_size=batch_size, learning_rate=lr\n",
    ")\n",
    "\n",
    "print(f\"sum_weights_abs: {net.sum_weights_abs:.3f}\")\n",
    "print(f\"sum_weights_pow2: {net.sum_weights_pow2:.3f}\")"
   ]
  },
  {
   "cell_type": "code",
   "execution_count": 6,
   "metadata": {},
   "outputs": [
    {
     "data": {
      "image/png": "[encoded data removed]",
      "text/plain": [
       "<Figure size 432x288 with 1 Axes>"
      ]
     },
     "metadata": {
      "needs_background": "light"
     },
     "output_type": "display_data"
    },
    {
     "data": {
      "image/png": "[encoded data removed]",
      "text/plain": [
       "<Figure size 432x288 with 1 Axes>"
      ]
     },
     "metadata": {
      "needs_background": "light"
     },
     "output_type": "display_data"
    }
   ],
   "source": [
    "# visualize\n",
    "visualizer.visualize_histories(histories)"
   ]
  },
  {
   "cell_type": "markdown",
   "metadata": {},
   "source": [
    "##### BatchNormalization あり"
   ]
  },
  {
   "cell_type": "code",
   "execution_count": 7,
   "metadata": {},
   "outputs": [],
   "source": [
    "# training parameters\n",
    "num_epoch = 100\n",
    "batch_size = 8\n",
    "lr = 0.01\n",
    "l1 = 0.000\n",
    "l2 = 0.000"
   ]
  },
  {
   "cell_type": "code",
   "execution_count": 8,
   "metadata": {},
   "outputs": [],
   "source": [
    "# network definition\n",
    "neuron_size = 200\n",
    "sequence = [\n",
    "    L.BatchNormalization(n_out=feature_size),\n",
    "    L.Linear(n_in=feature_size, n_out=neuron_size),\n",
    "    L.ReLU(),\n",
    "    L.BatchNormalization(n_out=neuron_size),\n",
    "    L.Linear(n_in=neuron_size, n_out=num_classes),\n",
    "]\n",
    "net = SequenceNet(layers=sequence, loss=L.SoftmaxCrossEntropy(), l1=l1, l2=l2)"
   ]
  },
  {
   "cell_type": "code",
   "execution_count": 9,
   "metadata": {},
   "outputs": [
    {
     "name": "stderr",
     "output_type": "stream",
     "text": [
      "epoch    99: 100%|██████████| 100/100 [00:23<00:00,  4.28it/s, loss_train=0.0882, acc_train=0.983, loss_test=0.213, acc_test=0.961]"
     ]
    },
    {
     "name": "stdout",
     "output_type": "stream",
     "text": [
      "sum_weights_abs: 11760.673\n",
      "sum_weights_pow2: 14672.023\n"
     ]
    },
    {
     "name": "stderr",
     "output_type": "stream",
     "text": [
      "\n"
     ]
    }
   ],
   "source": [
    "# train network\n",
    "loss_train, acc_train, loss_test, acc_test, histories = trainer.train(\n",
    "    net=net, X_train=X_train, Y_train=Y_train, X_test=X_test, Y_test=Y_test,\n",
    "    num_epoch=num_epoch, batch_size=batch_size, learning_rate=lr\n",
    ")\n",
    "\n",
    "print(f\"sum_weights_abs: {net.sum_weights_abs:.3f}\")\n",
    "print(f\"sum_weights_pow2: {net.sum_weights_pow2:.3f}\")"
   ]
  },
  {
   "cell_type": "code",
   "execution_count": 10,
   "metadata": {},
   "outputs": [
    {
     "data": {
      "image/png": "[encoded data removed]",
      "text/plain": [
       "<Figure size 432x288 with 1 Axes>"
      ]
     },
     "metadata": {
      "needs_background": "light"
     },
     "output_type": "display_data"
    },
    {
     "data": {
      "image/png": "[encoded data removed]",
      "text/plain": [
       "<Figure size 432x288 with 1 Axes>"
      ]
     },
     "metadata": {
      "needs_background": "light"
     },
     "output_type": "display_data"
    }
   ],
   "source": [
    "# visualize\n",
    "visualizer.visualize_histories(histories)"
   ]
  },
  {
   "cell_type": "markdown",
   "metadata": {},
   "source": [
    "## 6.4 正則化"
   ]
  },
  {
   "cell_type": "markdown",
   "metadata": {},
   "source": [
    "- 機械学習の問題では，過学習がよく問題になる\n",
    "- 過学習とは，訓練データだけに適応しすぎてしまい，訓練データに含まれない他のデータにはうまく対応できない状態\n",
    "- 未知のデータに対しても正しく識別できるモデルが理想\n",
    "- NN は複雑で表現力が高いモデルにすることが簡単だが，その分過学習を抑制するテクニックが重要になる"
   ]
  },
  {
   "cell_type": "markdown",
   "metadata": {},
   "source": [
    "### 6.4.1 過学習"
   ]
  },
  {
   "cell_type": "markdown",
   "metadata": {},
   "source": [
    "過学習が起きる主な原因\n",
    "- パラメータを大量に持ち，表現力の高いモデルであること\n",
    "- 訓練データが少ないこと"
   ]
  },
  {
   "cell_type": "markdown",
   "metadata": {},
   "source": [
    "今から実際に起こしてみましょう．"
   ]
  },
  {
   "cell_type": "markdown",
   "metadata": {},
   "source": [
    "### 6.4.2 Weight decay"
   ]
  },
  {
   "cell_type": "markdown",
   "metadata": {},
   "source": [
    "- 昔からよく用いられているそうです\n",
    "- Weight decay: L2 ノルムを正則化項として損失関数に加算する正則化のこと\n",
    "- L1 ノルム正則化もある\n",
    "- これらを一般化した Lp ノルム正則化もある"
   ]
  },
  {
   "cell_type": "markdown",
   "metadata": {},
   "source": [
    "ノルム正則化の効果\n",
    "- L1 ノルム正則化はパラメータのスパース化\n",
    "- L2 ノルム正則化はパラメータのレンジを狭くする"
   ]
  },
  {
   "cell_type": "markdown",
   "metadata": {},
   "source": [
    "実際の正則化項をあわせた式は L1 正則化も含めると以下のようになる．"
   ]
  },
  {
   "cell_type": "markdown",
   "metadata": {},
   "source": [
    "$$\n",
    "L_{12}\\left(W_i\\right) = L\\left(W_i\\right) + \\lambda_1 \\sum_{i} \\left|W_{i}\\right| + \\frac{1}{2} \\lambda_2 \\sum_{i} W^2_{i}\n",
    "$$"
   ]
  },
  {
   "cell_type": "markdown",
   "metadata": {},
   "source": [
    "学習の際には正則化したい重みでの微分に加えて，正則化項の微分も加算する．"
   ]
  },
  {
   "cell_type": "markdown",
   "metadata": {},
   "source": [
    "#### 数値例"
   ]
  },
  {
   "cell_type": "markdown",
   "metadata": {},
   "source": [
    "##### 正則化あり"
   ]
  },
  {
   "cell_type": "code",
   "execution_count": 11,
   "metadata": {},
   "outputs": [],
   "source": [
    "# training parameters\n",
    "num_epoch = 100\n",
    "batch_size = 8\n",
    "lr = 0.01\n",
    "l1 = 0.01\n",
    "l2 = 0.01"
   ]
  },
  {
   "cell_type": "code",
   "execution_count": 12,
   "metadata": {},
   "outputs": [],
   "source": [
    "# network definition\n",
    "neuron_size = 200\n",
    "sequence = [\n",
    "    L.Linear(n_in=feature_size, n_out=neuron_size),\n",
    "    L.ReLU(),\n",
    "    L.Linear(n_in=neuron_size, n_out=num_classes),\n",
    "]\n",
    "net = SequenceNet(layers=sequence, loss=L.SoftmaxCrossEntropy(), l1=l1, l2=l2)"
   ]
  },
  {
   "cell_type": "code",
   "execution_count": 13,
   "metadata": {},
   "outputs": [
    {
     "name": "stderr",
     "output_type": "stream",
     "text": [
      "epoch    99: 100%|██████████| 100/100 [00:16<00:00,  6.08it/s, loss_train=0.55, acc_train=0.955, loss_test=0.606, acc_test=0.943]"
     ]
    },
    {
     "name": "stdout",
     "output_type": "stream",
     "text": [
      "sum_weights_abs: 35.466\n",
      "sum_weights_pow2: 8.751\n"
     ]
    },
    {
     "name": "stderr",
     "output_type": "stream",
     "text": [
      "\n"
     ]
    }
   ],
   "source": [
    "# train network\n",
    "loss_train, acc_train, loss_test, acc_test, histories = trainer.train(\n",
    "    net=net, X_train=X_train, Y_train=Y_train, X_test=X_test, Y_test=Y_test,\n",
    "    num_epoch=num_epoch, batch_size=batch_size, learning_rate=lr\n",
    ")\n",
    "\n",
    "print(f\"sum_weights_abs: {net.sum_weights_abs:.3f}\")\n",
    "print(f\"sum_weights_pow2: {net.sum_weights_pow2:.3f}\")"
   ]
  },
  {
   "cell_type": "code",
   "execution_count": 14,
   "metadata": {},
   "outputs": [
    {
     "data": {
      "image/png": "[encoded data removed]",
      "text/plain": [
       "<Figure size 432x288 with 1 Axes>"
      ]
     },
     "metadata": {
      "needs_background": "light"
     },
     "output_type": "display_data"
    },
    {
     "data": {
      "image/png": "[encoded data removed]",
      "text/plain": [
       "<Figure size 432x288 with 1 Axes>"
      ]
     },
     "metadata": {
      "needs_background": "light"
     },
     "output_type": "display_data"
    }
   ],
   "source": [
    "# visualize\n",
    "visualizer.visualize_histories(histories)"
   ]
  },
  {
   "cell_type": "markdown",
   "metadata": {},
   "source": [
    "- 収束が遅れた代わりに，十分に正則化がかかると，訓練データでの指標がテストデータでの指標に近づいている．"
   ]
  },
  {
   "cell_type": "markdown",
   "metadata": {},
   "source": [
    "### 6.4.3 Dropout"
   ]
  },
  {
   "cell_type": "markdown",
   "metadata": {},
   "source": [
    "- モデルが複雑になってくると Weight Decay だけでは対応が困難になる\n",
    "- そこで Dropout を用いた過学習抑制を行う"
   ]
  },
  {
   "cell_type": "markdown",
   "metadata": {},
   "source": [
    "何をやっているのか\n",
    "- ニューロンをランダムに消去しながら学習する手法\n",
    "- 一定の確率（これは自分で設定する）で Dropout 層に入ってきた値を伝搬させない処理を行う"
   ]
  },
  {
   "cell_type": "markdown",
   "metadata": {},
   "source": [
    "Dropout の効果\n",
    "- 毎回異なるニューロンで推論を行うため，NN の中に冗長性が生まれ，アンサンブル学習と同じような効果が期待できる"
   ]
  },
  {
   "cell_type": "markdown",
   "metadata": {},
   "source": [
    "実際にその効果を動かしながら見てみましょう．"
   ]
  },
  {
   "cell_type": "code",
   "execution_count": 15,
   "metadata": {},
   "outputs": [],
   "source": [
    "# training parameters\n",
    "num_epoch = 100\n",
    "batch_size = 8\n",
    "drop_ratio = 0.75\n",
    "lr = 0.01\n",
    "l1 = 0.000\n",
    "l2 = 0.000"
   ]
  },
  {
   "cell_type": "code",
   "execution_count": 16,
   "metadata": {},
   "outputs": [],
   "source": [
    "# network definition\n",
    "neuron_size = 200\n",
    "sequence = [\n",
    "    L.Dropout(drop_ratio=drop_ratio),\n",
    "    L.Linear(n_in=feature_size, n_out=neuron_size),\n",
    "    L.ReLU(),\n",
    "    L.Dropout(drop_ratio=drop_ratio),\n",
    "    L.Linear(n_in=neuron_size, n_out=num_classes),\n",
    "]\n",
    "net = SequenceNet(layers=sequence, loss=L.SoftmaxCrossEntropy(), l1=l1, l2=l2)"
   ]
  },
  {
   "cell_type": "code",
   "execution_count": 17,
   "metadata": {},
   "outputs": [
    {
     "name": "stderr",
     "output_type": "stream",
     "text": [
      "epoch    99: 100%|██████████| 100/100 [00:17<00:00,  5.68it/s, loss_train=0.0286, acc_train=0.993, loss_test=0.431, acc_test=0.944]"
     ]
    },
    {
     "name": "stdout",
     "output_type": "stream",
     "text": [
      "sum_weights_abs: 11822.551\n",
      "sum_weights_pow2: 14873.231\n"
     ]
    },
    {
     "name": "stderr",
     "output_type": "stream",
     "text": [
      "\n"
     ]
    }
   ],
   "source": [
    "# train network\n",
    "loss_train, acc_train, loss_test, acc_test, histories = trainer.train(\n",
    "    net=net, X_train=X_train, Y_train=Y_train, X_test=X_test, Y_test=Y_test,\n",
    "    num_epoch=num_epoch, batch_size=batch_size, learning_rate=lr\n",
    ")\n",
    "\n",
    "print(f\"sum_weights_abs: {net.sum_weights_abs:.3f}\")\n",
    "print(f\"sum_weights_pow2: {net.sum_weights_pow2:.3f}\")"
   ]
  },
  {
   "cell_type": "code",
   "execution_count": 18,
   "metadata": {},
   "outputs": [
    {
     "data": {
      "image/png": "[encoded data removed]",
      "text/plain": [
       "<Figure size 432x288 with 1 Axes>"
      ]
     },
     "metadata": {
      "needs_background": "light"
     },
     "output_type": "display_data"
    },
    {
     "data": {
      "image/png": "[encoded data removed]",
      "text/plain": [
       "<Figure size 432x288 with 1 Axes>"
      ]
     },
     "metadata": {
      "needs_background": "light"
     },
     "output_type": "display_data"
    }
   ],
   "source": [
    "# visualize\n",
    "visualizer.visualize_histories(histories)"
   ]
  },
  {
   "cell_type": "markdown",
   "metadata": {},
   "source": [
    "## 6.5 ハイパーパラメータの検証"
   ]
  },
  {
   "cell_type": "markdown",
   "metadata": {},
   "source": [
    "NN におけるハイパーパラメータとは\n",
    "- 層の数\n",
    "- 各層のニューロンの数\n",
    "- バッチサイズ\n",
    "- 学習率\n",
    "- 正則化係数\n",
    "- etc.\n",
    "\n",
    "これらを適切な値に設定しなければ，学習はうまく進まない．\n",
    "しかし探索するのも一苦労．"
   ]
  },
  {
   "cell_type": "markdown",
   "metadata": {},
   "source": [
    "代表的な方法\n",
    "- random search\n",
    "- grid search\n",
    "- ランダムに gird search を行う方法\n",
    "- ベイズ最適化を用いた方法"
   ]
  },
  {
   "cell_type": "markdown",
   "metadata": {},
   "source": [
    "### random search を使った例"
   ]
  },
  {
   "cell_type": "code",
   "execution_count": 19,
   "metadata": {},
   "outputs": [],
   "source": [
    "np.random.seed(7)"
   ]
  },
  {
   "cell_type": "code",
   "execution_count": 20,
   "metadata": {},
   "outputs": [],
   "source": [
    "class ObjectiveRandomSearch(object):\n",
    "    def __init__(self, X_train, Y_train, X_val, Y_val, num_epoch):\n",
    "        # Hold this implementation specific arguments as the fields of the class.\n",
    "        self.X_train = X_train\n",
    "        self.Y_train = Y_train\n",
    "        self.X_val = X_val\n",
    "        self.Y_val = Y_val\n",
    "        self.num_epoch = num_epoch\n",
    "        self.params = None\n",
    "        self.best_params = None\n",
    "        self.best_value = np.inf\n",
    "\n",
    "    def __call__(self):\n",
    "        # Calculate an objective value\n",
    "        num_epoch = self.num_epoch\n",
    "        batch_size = [8, 16, 32][np.random.randint(low=0, high=3)]\n",
    "        lr = np.random.rand() * (0.1 - 0.001) + 0.001\n",
    "        l1 = np.random.rand() * 0.0\n",
    "        l2 = np.random.rand() * 0.0\n",
    "        num_fc_unit = [0, 1, 2, 4][np.random.randint(low=0, high=4)]\n",
    "        neuron_size = [50, 100, 200][np.random.randint(low=0, high=3)]\n",
    "        params = {\n",
    "            \"num_epoch\": num_epoch, \"batch_size\": batch_size,\n",
    "            \"learning_rate\": lr,\n",
    "            \"l1\": l1, \"l2\": l2, \"num_fc_unit\": num_fc_unit,\n",
    "            \"neuron_size\": neuron_size,\n",
    "        }\n",
    "\n",
    "        # network definition\n",
    "        head = [\n",
    "            L.BatchNormalization(n_out=feature_size),\n",
    "            L.Linear(n_in=feature_size, n_out=neuron_size),\n",
    "            L.ReLU(),\n",
    "        ]\n",
    "        fc_unit = [\n",
    "            L.BatchNormalization(n_out=neuron_size),\n",
    "            L.Linear(n_in=neuron_size, n_out=neuron_size),\n",
    "            L.ReLU(),\n",
    "        ]\n",
    "        classifier = [\n",
    "            L.BatchNormalization(n_out=neuron_size),\n",
    "            L.Linear(n_in=neuron_size, n_out=num_classes),\n",
    "        ]\n",
    "        layers = head + num_fc_unit * fc_unit + classifier\n",
    "        net = SequenceNet(layers=layers, loss=L.SoftmaxCrossEntropy(), l1=l1, l2=l2)\n",
    "\n",
    "        # train network\n",
    "        loss_train, acc_train, loss_val, acc_val, histories = trainer.train(\n",
    "            net=net, X_train=self.X_train, Y_train=self.Y_train, X_test=self.X_val, Y_test=self.Y_val,\n",
    "            num_epoch=num_epoch, batch_size=batch_size, learning_rate=lr\n",
    "        )\n",
    "\n",
    "        loss_val = np.inf if np.isnan(loss_val) else loss_val\n",
    "        self.update_best_params(loss_val=loss_val, params=params)\n",
    "\n",
    "        return loss_val\n",
    "\n",
    "    def update_best_params(self, loss_val, params):\n",
    "        if loss_val < self.best_value:\n",
    "            self.best_value = loss_val\n",
    "            self.best_params = params"
   ]
  },
  {
   "cell_type": "code",
   "execution_count": 21,
   "metadata": {},
   "outputs": [],
   "source": [
    "obj_rs = ObjectiveRandomSearch(X_train, Y_train, X_test, Y_test, num_epoch=20)"
   ]
  },
  {
   "cell_type": "code",
   "execution_count": 22,
   "metadata": {},
   "outputs": [
    {
     "name": "stderr",
     "output_type": "stream",
     "text": [
      "epoch    19: 100%|██████████| 20/20 [00:03<00:00,  5.23it/s, loss_train=0.101, acc_train=0.982, loss_test=0.151, acc_test=0.957] \n",
      "epoch     2:  15%|█▌        | 3/20 [00:00<00:02,  5.70it/s, loss_train=1.38, acc_train=0.58, loss_test=1.42, acc_test=0.548]/home/wattai/miniconda3/envs/zerokara/lib/python3.8/site-packages/numpy/core/_methods.py:205: RuntimeWarning: overflow encountered in multiply\n",
      "  x = um.multiply(x, x, out=x)\n",
      "/home/wattai/miniconda3/envs/zerokara/lib/python3.8/site-packages/numpy/core/_methods.py:216: RuntimeWarning: overflow encountered in reduce\n",
      "  ret = umr_sum(x, axis, dtype, out, keepdims)\n",
      "/mnt/c/Users/evama/zerokara/6_3-6_5/network/layers.py:60: RuntimeWarning: overflow encountered in multiply\n",
      "  return coefficient * grad_block\n",
      "/mnt/c/Users/evama/zerokara/6_3-6_5/network/module.py:30: RuntimeWarning: overflow encountered in square\n",
      "  self.sum_weights_pow2 += np.sum(layer.params[\"w\"] ** 2.0)\n",
      "/mnt/c/Users/evama/zerokara/6_3-6_5/network/layers.py:15: RuntimeWarning: overflow encountered in matmul\n",
      "  return self.x @ self.params[\"w\"] + self.params[\"b\"]\n",
      "/home/wattai/miniconda3/envs/zerokara/lib/python3.8/site-packages/numpy/core/_methods.py:202: RuntimeWarning: invalid value encountered in subtract\n",
      "  x = asanyarray(arr - arrmean)\n",
      "/mnt/c/Users/evama/zerokara/6_3-6_5/network/layers.py:48: RuntimeWarning: invalid value encountered in subtract\n",
      "  self.x_hat = (x - self.mu) / np.sqrt(self.var + self.eps)\n",
      "/mnt/c/Users/evama/zerokara/6_3-6_5/network/module.py:35: RuntimeWarning: invalid value encountered in double_scalars\n",
      "  + self.l2 * self.sum_weights_pow2 / 2.\n",
      "/mnt/c/Users/evama/zerokara/6_3-6_5/network/layers.py:19: RuntimeWarning: overflow encountered in matmul\n",
      "  self.x.T @ dy + l1 * np.sign(self.params[\"w\"]) + l2 * self.params[\"w\"]\n",
      "/mnt/c/Users/evama/zerokara/6_3-6_5/network/layers.py:22: RuntimeWarning: overflow encountered in matmul\n",
      "  return dy @ self.params[\"w\"].T\n",
      "/mnt/c/Users/evama/zerokara/6_3-6_5/network/layers.py:52: RuntimeWarning: invalid value encountered in multiply\n",
      "  self.grads[\"gamma\"] = np.sum(dy * self.x_hat, axis=0)\n",
      "/home/wattai/miniconda3/envs/zerokara/lib/python3.8/site-packages/numpy/core/fromnumeric.py:87: RuntimeWarning: invalid value encountered in reduce\n",
      "  return ufunc.reduce(obj, axis, dtype, out, **passkwargs)\n",
      "/mnt/c/Users/evama/zerokara/6_3-6_5/network/module.py:34: RuntimeWarning: invalid value encountered in double_scalars\n",
      "  + self.l1 * self.sum_weights_abs\n",
      "/mnt/c/Users/evama/zerokara/6_3-6_5/network/layers.py:35: RuntimeWarning: invalid value encountered in multiply\n",
      "  return dy * self.idx_greater_than_zero\n",
      "/mnt/c/Users/evama/zerokara/6_3-6_5/network/layers.py:19: RuntimeWarning: invalid value encountered in multiply\n",
      "  self.x.T @ dy + l1 * np.sign(self.params[\"w\"]) + l2 * self.params[\"w\"]\n",
      "epoch    19: 100%|██████████| 20/20 [00:03<00:00,  5.92it/s, loss_train=nan, acc_train=0.107, loss_test=nan, acc_test=0.0889]\n",
      "epoch    19: 100%|██████████| 20/20 [00:01<00:00, 13.10it/s, loss_train=0.167, acc_train=0.957, loss_test=0.272, acc_test=0.93] \n",
      "epoch    19: 100%|██████████| 20/20 [00:10<00:00,  1.86it/s, loss_train=nan, acc_train=0.103, loss_test=nan, acc_test=0.0907] \n",
      "epoch    19: 100%|██████████| 20/20 [00:02<00:00,  8.79it/s, loss_train=0.513, acc_train=0.85, loss_test=0.688, acc_test=0.798] \n",
      "  0%|          | 0/20 [00:00<?, ?it/s]/mnt/c/Users/evama/zerokara/6_3-6_5/network/layers.py:58: RuntimeWarning: invalid value encountered in add\n",
      "  - (self.grads[\"beta\"] + self.grads[\"gamma\"] * x_hat_centered) / dy.shape[0]\n",
      "/mnt/c/Users/evama/zerokara/6_3-6_5/network/layers.py:57: RuntimeWarning: invalid value encountered in subtract\n",
      "  dy\n",
      "/home/wattai/miniconda3/envs/zerokara/lib/python3.8/site-packages/numpy/core/fromnumeric.py:87: RuntimeWarning: overflow encountered in reduce\n",
      "  return ufunc.reduce(obj, axis, dtype, out, **passkwargs)\n",
      "/mnt/c/Users/evama/zerokara/6_3-6_5/network/layers.py:49: RuntimeWarning: invalid value encountered in multiply\n",
      "  return self.params[\"gamma\"] * self.x_hat + self.params[\"beta\"]\n",
      "/mnt/c/Users/evama/zerokara/6_3-6_5/network/layers.py:49: RuntimeWarning: invalid value encountered in add\n",
      "  return self.params[\"gamma\"] * self.x_hat + self.params[\"beta\"]\n",
      "epoch    19: 100%|██████████| 20/20 [00:19<00:00,  1.04it/s, loss_train=nan, acc_train=0.107, loss_test=nan, acc_test=0.0889] \n",
      "epoch    19: 100%|██████████| 20/20 [00:02<00:00,  7.78it/s, loss_train=0.145, acc_train=0.968, loss_test=0.238, acc_test=0.941]\n",
      "epoch    19: 100%|██████████| 20/20 [00:02<00:00,  8.80it/s, loss_train=0.254, acc_train=0.955, loss_test=0.479, acc_test=0.922]\n",
      "  0%|          | 0/20 [00:00<?, ?it/s]/mnt/c/Users/evama/zerokara/6_3-6_5/network/layers.py:22: RuntimeWarning: invalid value encountered in matmul\n",
      "  return dy @ self.params[\"w\"].T\n",
      "epoch    19: 100%|██████████| 20/20 [00:07<00:00,  2.65it/s, loss_train=nan, acc_train=0.101, loss_test=nan, acc_test=0.102]  \n",
      "  0%|          | 0/20 [00:00<?, ?it/s]/mnt/c/Users/evama/zerokara/6_3-6_5/network/layers.py:15: RuntimeWarning: invalid value encountered in matmul\n",
      "  return self.x @ self.params[\"w\"] + self.params[\"b\"]\n",
      "epoch    19: 100%|██████████| 20/20 [00:08<00:00,  2.37it/s, loss_train=nan, acc_train=0.0931, loss_test=nan, acc_test=0.113]\n",
      "epoch    19: 100%|██████████| 20/20 [00:03<00:00,  6.60it/s, loss_train=0.0745, acc_train=0.987, loss_test=0.265, acc_test=0.943]\n",
      "epoch    19: 100%|██████████| 20/20 [00:03<00:00,  6.13it/s, loss_train=0.238, acc_train=0.93, loss_test=0.421, acc_test=0.874] \n",
      "epoch    19: 100%|██████████| 20/20 [00:04<00:00,  4.56it/s, loss_train=0.363, acc_train=0.913, loss_test=0.415, acc_test=0.872]\n",
      "epoch    19: 100%|██████████| 20/20 [00:04<00:00,  4.56it/s, loss_train=nan, acc_train=0.0931, loss_test=nan, acc_test=0.113] \n",
      "epoch    19: 100%|██████████| 20/20 [00:02<00:00,  8.85it/s, loss_train=1.77, acc_train=0.391, loss_test=1.77, acc_test=0.385]  \n",
      "epoch    19: 100%|██████████| 20/20 [00:11<00:00,  1.67it/s, loss_train=nan, acc_train=0.0931, loss_test=nan, acc_test=0.113]\n",
      "epoch    19: 100%|██████████| 20/20 [00:02<00:00,  8.09it/s, loss_train=0.1, acc_train=0.986, loss_test=0.325, acc_test=0.913]  \n",
      "  0%|          | 0/20 [00:00<?, ?it/s]/home/wattai/miniconda3/envs/zerokara/lib/python3.8/site-packages/numpy/core/_methods.py:160: RuntimeWarning: overflow encountered in reduce\n",
      "  ret = umr_sum(arr, axis, dtype, out, keepdims)\n",
      "/home/wattai/miniconda3/envs/zerokara/lib/python3.8/site-packages/numpy/core/_methods.py:192: RuntimeWarning: overflow encountered in reduce\n",
      "  arrmean = umr_sum(arr, axis, dtype, keepdims=True)\n",
      "/mnt/c/Users/evama/zerokara/6_3-6_5/network/layers.py:48: RuntimeWarning: invalid value encountered in true_divide\n",
      "  self.x_hat = (x - self.mu) / np.sqrt(self.var + self.eps)\n",
      "epoch    19: 100%|██████████| 20/20 [00:12<00:00,  1.67it/s, loss_train=nan, acc_train=0.101, loss_test=nan, acc_test=0.102] \n",
      "epoch    19: 100%|██████████| 20/20 [00:02<00:00,  8.08it/s, loss_train=0.154, acc_train=0.971, loss_test=0.494, acc_test=0.885]\n",
      "epoch    19: 100%|██████████| 20/20 [00:19<00:00,  1.05it/s, loss_train=nan, acc_train=0.0931, loss_test=nan, acc_test=0.113] \n",
      "epoch    19: 100%|██████████| 20/20 [00:03<00:00,  6.22it/s, loss_train=nan, acc_train=0.0931, loss_test=nan, acc_test=0.113] \n",
      "epoch    19: 100%|██████████| 20/20 [00:01<00:00, 15.45it/s, loss_train=0.302, acc_train=0.916, loss_test=0.392, acc_test=0.869]\n",
      "epoch    19: 100%|██████████| 20/20 [00:10<00:00,  1.93it/s, loss_train=nan, acc_train=0.0931, loss_test=nan, acc_test=0.113]\n",
      "epoch    19: 100%|██████████| 20/20 [00:05<00:00,  3.79it/s, loss_train=nan, acc_train=0.0931, loss_test=nan, acc_test=0.113] \n",
      "epoch    19: 100%|██████████| 20/20 [00:02<00:00,  6.83it/s, loss_train=0.16, acc_train=0.961, loss_test=0.309, acc_test=0.907] \n",
      "epoch    19: 100%|██████████| 20/20 [00:03<00:00,  6.48it/s, loss_train=0.0804, acc_train=0.986, loss_test=0.224, acc_test=0.948]\n",
      "epoch    19: 100%|██████████| 20/20 [00:03<00:00,  5.41it/s, loss_train=0.634, acc_train=0.818, loss_test=0.882, acc_test=0.75] \n",
      "epoch    19: 100%|██████████| 20/20 [00:10<00:00,  2.00it/s, loss_train=0.33, acc_train=0.909, loss_test=0.57, acc_test=0.848]  \n",
      "epoch    19: 100%|██████████| 20/20 [00:04<00:00,  4.61it/s, loss_train=0.083, acc_train=0.988, loss_test=0.306, acc_test=0.941] \n",
      "  0%|          | 0/20 [00:00<?, ?it/s]/mnt/c/Users/evama/zerokara/6_3-6_5/network/layers.py:19: RuntimeWarning: invalid value encountered in matmul\n",
      "  self.x.T @ dy + l1 * np.sign(self.params[\"w\"]) + l2 * self.params[\"w\"]\n",
      "epoch    19: 100%|██████████| 20/20 [00:04<00:00,  4.24it/s, loss_train=nan, acc_train=0.0986, loss_test=nan, acc_test=0.0981]\n",
      "epoch    19: 100%|██████████| 20/20 [00:03<00:00,  5.95it/s, loss_train=1.8, acc_train=0.353, loss_test=1.83, acc_test=0.341] \n",
      "epoch    19: 100%|██████████| 20/20 [00:05<00:00,  3.98it/s, loss_train=nan, acc_train=0.106, loss_test=nan, acc_test=0.0889]\n",
      "epoch    19: 100%|██████████| 20/20 [00:09<00:00,  2.12it/s, loss_train=0.0937, acc_train=0.975, loss_test=0.202, acc_test=0.946]\n",
      "epoch    19: 100%|██████████| 20/20 [00:05<00:00,  3.53it/s, loss_train=0.0935, acc_train=0.977, loss_test=0.167, acc_test=0.948]\n",
      "epoch    19: 100%|██████████| 20/20 [00:02<00:00,  8.26it/s, loss_train=0.0826, acc_train=0.981, loss_test=0.328, acc_test=0.931]\n",
      "epoch    19: 100%|██████████| 20/20 [00:02<00:00,  6.67it/s, loss_train=nan, acc_train=0.0931, loss_test=nan, acc_test=0.113] \n",
      "epoch    19: 100%|██████████| 20/20 [00:09<00:00,  2.17it/s, loss_train=3.58, acc_train=0.173, loss_test=3.78, acc_test=0.154]\n",
      "epoch    19: 100%|██████████| 20/20 [00:04<00:00,  4.17it/s, loss_train=nan, acc_train=0.106, loss_test=nan, acc_test=0.0889] \n",
      "epoch    19: 100%|██████████| 20/20 [00:03<00:00,  5.50it/s, loss_train=0.656, acc_train=0.81, loss_test=0.752, acc_test=0.752] \n",
      "epoch    19: 100%|██████████| 20/20 [00:09<00:00,  2.02it/s, loss_train=0.1, acc_train=0.971, loss_test=0.236, acc_test=0.946]  \n",
      "epoch    19: 100%|██████████| 20/20 [00:01<00:00, 11.41it/s, loss_train=3.04, acc_train=0.419, loss_test=3.33, acc_test=0.415]\n",
      "epoch    19: 100%|██████████| 20/20 [00:07<00:00,  2.69it/s, loss_train=nan, acc_train=0.1, loss_test=nan, acc_test=0.1]      \n",
      "epoch    19: 100%|██████████| 20/20 [00:03<00:00,  6.22it/s, loss_train=0.157, acc_train=0.969, loss_test=0.193, acc_test=0.943]\n",
      "epoch    19: 100%|██████████| 20/20 [00:01<00:00, 10.76it/s, loss_train=0.283, acc_train=0.92, loss_test=0.416, acc_test=0.885] \n",
      "epoch    19: 100%|██████████| 20/20 [00:13<00:00,  1.45it/s, loss_train=2.42, acc_train=0.193, loss_test=2.36, acc_test=0.202] \n",
      "epoch     0:   5%|▌         | 1/20 [00:00<00:05,  3.40it/s, loss_train=5.9, acc_train=0.397, loss_test=5.82, acc_test=0.363]/mnt/c/Users/evama/zerokara/6_3-6_5/network/layers.py:52: RuntimeWarning: overflow encountered in multiply\n",
      "  self.grads[\"gamma\"] = np.sum(dy * self.x_hat, axis=0)\n",
      "/mnt/c/Users/evama/zerokara/6_3-6_5/network/layers.py:58: RuntimeWarning: overflow encountered in multiply\n",
      "  - (self.grads[\"beta\"] + self.grads[\"gamma\"] * x_hat_centered) / dy.shape[0]\n",
      "/mnt/c/Users/evama/zerokara/6_3-6_5/network/layers.py:54: RuntimeWarning: overflow encountered in true_divide\n",
      "  coefficient = self.params[\"gamma\"] / np.sqrt(self.var + self.eps)\n",
      "/mnt/c/Users/evama/zerokara/6_3-6_5/network/layers.py:60: RuntimeWarning: invalid value encountered in multiply\n",
      "  return coefficient * grad_block\n",
      "epoch    19: 100%|██████████| 20/20 [00:05<00:00,  3.88it/s, loss_train=nan, acc_train=0.1, loss_test=nan, acc_test=0.1]      \n",
      "epoch    19: 100%|██████████| 20/20 [00:07<00:00,  2.50it/s, loss_train=nan, acc_train=0.1, loss_test=nan, acc_test=0.1]     \n",
      "epoch    19: 100%|██████████| 20/20 [00:08<00:00,  2.43it/s, loss_train=nan, acc_train=0.106, loss_test=nan, acc_test=0.0889] \n",
      "epoch    19: 100%|██████████| 20/20 [00:08<00:00,  2.48it/s, loss_train=nan, acc_train=0.0986, loss_test=nan, acc_test=0.0981]\n",
      "epoch    19: 100%|██████████| 20/20 [00:05<00:00,  3.35it/s, loss_train=0.0992, acc_train=0.988, loss_test=0.219, acc_test=0.952]\n"
     ]
    }
   ],
   "source": [
    "loss_val = np.inf\n",
    "for trial in range(50):\n",
    "    obj_rs()"
   ]
  },
  {
   "cell_type": "code",
   "execution_count": 23,
   "metadata": {},
   "outputs": [
    {
     "data": {
      "text/plain": [
       "0.15120275860013363"
      ]
     },
     "execution_count": 23,
     "metadata": {},
     "output_type": "execute_result"
    }
   ],
   "source": [
    "obj_rs.best_value"
   ]
  },
  {
   "cell_type": "code",
   "execution_count": 24,
   "metadata": {},
   "outputs": [
    {
     "data": {
      "text/plain": [
       "{'num_epoch': 20,\n",
       " 'batch_size': 8,\n",
       " 'learning_rate': 0.07821196043177135,\n",
       " 'l1': 0.0,\n",
       " 'l2': 0.0,\n",
       " 'num_fc_unit': 0,\n",
       " 'neuron_size': 100}"
      ]
     },
     "execution_count": 24,
     "metadata": {},
     "output_type": "execute_result"
    }
   ],
   "source": [
    "obj_rs.best_params"
   ]
  },
  {
   "cell_type": "markdown",
   "metadata": {},
   "source": [
    "### optuna を使った例"
   ]
  },
  {
   "cell_type": "code",
   "execution_count": 25,
   "metadata": {},
   "outputs": [],
   "source": [
    "import optuna"
   ]
  },
  {
   "cell_type": "code",
   "execution_count": 26,
   "metadata": {},
   "outputs": [],
   "source": [
    "np.random.seed(7)"
   ]
  },
  {
   "cell_type": "code",
   "execution_count": 27,
   "metadata": {},
   "outputs": [],
   "source": [
    "class ObjectiveOptuna(object):\n",
    "    def __init__(self, X_train, Y_train, X_val, Y_val, num_epoch):\n",
    "        # Hold this implementation specific arguments as the fields of the class.\n",
    "        self.X_train = X_train\n",
    "        self.Y_train = Y_train\n",
    "        self.X_val = X_val\n",
    "        self.Y_val = Y_val\n",
    "        self.num_epoch = num_epoch\n",
    "\n",
    "    def __call__(self, trial):\n",
    "        # Calculate an objective value by using the extra arguments.\n",
    "        num_epoch = trial.suggest_categorical(\"num_epoch\", [self.num_epoch])\n",
    "        batch_size = trial.suggest_categorical(\"batch_size\", [8, 16, 32])\n",
    "        lr = trial.suggest_float(\"learning_rate\", 0.001, 0.1)\n",
    "        l1 = trial.suggest_float(\"lambda_1\", 0.0, 0.0)\n",
    "        l2 = trial.suggest_float(\"lambda_2\", 0.0, 0.0)\n",
    "        num_fc_unit = trial.suggest_categorical(\"num_fc_unit\", [0, 1, 2, 4])\n",
    "        neuron_size = trial.suggest_categorical(\"neuron_size\", [50, 100, 200])\n",
    "        \n",
    "        # network definition\n",
    "        head = [\n",
    "            L.BatchNormalization(n_out=feature_size),\n",
    "            L.Linear(n_in=feature_size, n_out=neuron_size),\n",
    "            L.ReLU(),\n",
    "        ]\n",
    "        fc_unit = [\n",
    "            L.BatchNormalization(n_out=neuron_size),\n",
    "            L.Linear(n_in=neuron_size, n_out=neuron_size),\n",
    "            L.ReLU(),\n",
    "        ]\n",
    "        classifier = [\n",
    "            L.BatchNormalization(n_out=neuron_size),\n",
    "            L.Linear(n_in=neuron_size, n_out=num_classes),\n",
    "        ]\n",
    "        layers = head + num_fc_unit * fc_unit + classifier\n",
    "        net = SequenceNet(layers=layers, loss=L.SoftmaxCrossEntropy(), l1=l1, l2=l2)\n",
    "\n",
    "        # train network\n",
    "        loss_train, acc_train, loss_val, acc_val, histories = trainer.train(\n",
    "            net=net, X_train=self.X_train, Y_train=self.Y_train, X_test=self.X_val, Y_test=self.Y_val,\n",
    "            num_epoch=num_epoch, batch_size=batch_size, learning_rate=lr\n",
    "        )\n",
    "        loss_val = np.inf if np.isnan(loss_val) else loss_val\n",
    "        return loss_val"
   ]
  },
  {
   "cell_type": "code",
   "execution_count": 28,
   "metadata": {},
   "outputs": [],
   "source": [
    "obj_optuna = ObjectiveOptuna(X_train, Y_train, X_test, Y_test, num_epoch=20)"
   ]
  },
  {
   "cell_type": "code",
   "execution_count": 29,
   "metadata": {},
   "outputs": [
    {
     "name": "stderr",
     "output_type": "stream",
     "text": [
      "\u001b[32m[I 2020-10-20 01:53:48,790]\u001b[0m A new study created in memory with name: no-name-4048aedb-6b41-4cee-90b0-b865953cffb6\u001b[0m\n",
      "  0%|          | 0/20 [00:00<?, ?it/s]/home/wattai/miniconda3/envs/zerokara/lib/python3.8/site-packages/numpy/core/_methods.py:205: RuntimeWarning: overflow encountered in multiply\n",
      "  x = um.multiply(x, x, out=x)\n",
      "/mnt/c/Users/evama/zerokara/6_3-6_5/network/layers.py:19: RuntimeWarning: overflow encountered in matmul\n",
      "  self.x.T @ dy + l1 * np.sign(self.params[\"w\"]) + l2 * self.params[\"w\"]\n",
      "/mnt/c/Users/evama/zerokara/6_3-6_5/network/layers.py:19: RuntimeWarning: invalid value encountered in matmul\n",
      "  self.x.T @ dy + l1 * np.sign(self.params[\"w\"]) + l2 * self.params[\"w\"]\n",
      "/mnt/c/Users/evama/zerokara/6_3-6_5/network/layers.py:22: RuntimeWarning: overflow encountered in matmul\n",
      "  return dy @ self.params[\"w\"].T\n",
      "/mnt/c/Users/evama/zerokara/6_3-6_5/network/layers.py:22: RuntimeWarning: invalid value encountered in matmul\n",
      "  return dy @ self.params[\"w\"].T\n",
      "/mnt/c/Users/evama/zerokara/6_3-6_5/network/layers.py:52: RuntimeWarning: invalid value encountered in multiply\n",
      "  self.grads[\"gamma\"] = np.sum(dy * self.x_hat, axis=0)\n",
      "/home/wattai/miniconda3/envs/zerokara/lib/python3.8/site-packages/numpy/core/fromnumeric.py:87: RuntimeWarning: invalid value encountered in reduce\n",
      "  return ufunc.reduce(obj, axis, dtype, out, **passkwargs)\n",
      "/mnt/c/Users/evama/zerokara/6_3-6_5/network/module.py:30: RuntimeWarning: overflow encountered in square\n",
      "  self.sum_weights_pow2 += np.sum(layer.params[\"w\"] ** 2.0)\n",
      "/mnt/c/Users/evama/zerokara/6_3-6_5/network/layers.py:19: RuntimeWarning: invalid value encountered in multiply\n",
      "  self.x.T @ dy + l1 * np.sign(self.params[\"w\"]) + l2 * self.params[\"w\"]\n",
      "epoch    19: 100%|██████████| 20/20 [00:06<00:00,  3.10it/s, loss_train=nan, acc_train=0.103, loss_test=nan, acc_test=0.0907] \n",
      "\u001b[32m[I 2020-10-20 01:53:55,257]\u001b[0m Trial 0 finished with value: inf and parameters: {'num_epoch': 20, 'batch_size': 8, 'learning_rate': 0.07821196043177135, 'lambda_1': 0.0, 'lambda_2': 0.0, 'num_fc_unit': 4, 'neuron_size': 50}. Best is trial 0 with value: inf.\u001b[0m\n",
      "epoch    19: 100%|██████████| 20/20 [00:02<00:00,  9.05it/s, loss_train=0.104, acc_train=0.968, loss_test=0.312, acc_test=0.915]\n",
      "\u001b[32m[I 2020-10-20 01:53:57,472]\u001b[0m Trial 1 finished with value: 0.3117768278343219 and parameters: {'num_epoch': 20, 'batch_size': 16, 'learning_rate': 0.05431109117063294, 'lambda_1': 0.0, 'lambda_2': 0.0, 'num_fc_unit': 0, 'neuron_size': 100}. Best is trial 1 with value: 0.3117768278343219.\u001b[0m\n",
      "epoch    19: 100%|██████████| 20/20 [00:02<00:00,  7.85it/s, loss_train=0.155, acc_train=0.975, loss_test=0.479, acc_test=0.926]\n",
      "\u001b[32m[I 2020-10-20 01:54:00,026]\u001b[0m Trial 2 finished with value: 0.4787158379533083 and parameters: {'num_epoch': 20, 'batch_size': 32, 'learning_rate': 0.04251784883123234, 'lambda_1': 0.0, 'lambda_2': 0.0, 'num_fc_unit': 0, 'neuron_size': 200}. Best is trial 1 with value: 0.3117768278343219.\u001b[0m\n",
      "epoch    19: 100%|██████████| 20/20 [00:06<00:00,  2.94it/s, loss_train=2.12, acc_train=0.246, loss_test=2.12, acc_test=0.224]\n",
      "\u001b[32m[I 2020-10-20 01:54:06,835]\u001b[0m Trial 3 finished with value: 2.1234613713628026 and parameters: {'num_epoch': 20, 'batch_size': 8, 'learning_rate': 0.08701134436257306, 'lambda_1': 0.0, 'lambda_2': 0.0, 'num_fc_unit': 4, 'neuron_size': 50}. Best is trial 1 with value: 0.3117768278343219.\u001b[0m\n",
      "  0%|          | 0/20 [00:00<?, ?it/s]/home/wattai/miniconda3/envs/zerokara/lib/python3.8/site-packages/numpy/core/_methods.py:216: RuntimeWarning: overflow encountered in reduce\n",
      "  ret = umr_sum(x, axis, dtype, out, keepdims)\n",
      "/mnt/c/Users/evama/zerokara/6_3-6_5/network/layers.py:60: RuntimeWarning: overflow encountered in multiply\n",
      "  return coefficient * grad_block\n",
      "/mnt/c/Users/evama/zerokara/6_3-6_5/network/layers.py:15: RuntimeWarning: overflow encountered in matmul\n",
      "  return self.x @ self.params[\"w\"] + self.params[\"b\"]\n",
      "/home/wattai/miniconda3/envs/zerokara/lib/python3.8/site-packages/numpy/core/_methods.py:202: RuntimeWarning: invalid value encountered in subtract\n",
      "  x = asanyarray(arr - arrmean)\n",
      "/mnt/c/Users/evama/zerokara/6_3-6_5/network/layers.py:48: RuntimeWarning: invalid value encountered in subtract\n",
      "  self.x_hat = (x - self.mu) / np.sqrt(self.var + self.eps)\n",
      "/mnt/c/Users/evama/zerokara/6_3-6_5/network/module.py:35: RuntimeWarning: invalid value encountered in double_scalars\n",
      "  + self.l2 * self.sum_weights_pow2 / 2.\n",
      "/mnt/c/Users/evama/zerokara/6_3-6_5/network/layers.py:52: RuntimeWarning: overflow encountered in multiply\n",
      "  self.grads[\"gamma\"] = np.sum(dy * self.x_hat, axis=0)\n",
      "/home/wattai/miniconda3/envs/zerokara/lib/python3.8/site-packages/numpy/core/fromnumeric.py:87: RuntimeWarning: overflow encountered in reduce\n",
      "  return ufunc.reduce(obj, axis, dtype, out, **passkwargs)\n",
      "/mnt/c/Users/evama/zerokara/6_3-6_5/network/layers.py:58: RuntimeWarning: invalid value encountered in add\n",
      "  - (self.grads[\"beta\"] + self.grads[\"gamma\"] * x_hat_centered) / dy.shape[0]\n",
      "/mnt/c/Users/evama/zerokara/6_3-6_5/network/layers.py:57: RuntimeWarning: invalid value encountered in subtract\n",
      "  dy\n",
      "/mnt/c/Users/evama/zerokara/6_3-6_5/network/layers.py:49: RuntimeWarning: invalid value encountered in add\n",
      "  return self.params[\"gamma\"] * self.x_hat + self.params[\"beta\"]\n",
      "/mnt/c/Users/evama/zerokara/6_3-6_5/network/module.py:34: RuntimeWarning: invalid value encountered in double_scalars\n",
      "  + self.l1 * self.sum_weights_abs\n",
      "epoch    19: 100%|██████████| 20/20 [00:11<00:00,  1.73it/s, loss_train=nan, acc_train=0.0986, loss_test=nan, acc_test=0.0981]\n",
      "\u001b[32m[I 2020-10-20 01:54:18,427]\u001b[0m Trial 4 finished with value: inf and parameters: {'num_epoch': 20, 'batch_size': 8, 'learning_rate': 0.007527698343684606, 'lambda_1': 0.0, 'lambda_2': 0.0, 'num_fc_unit': 2, 'neuron_size': 200}. Best is trial 1 with value: 0.3117768278343219.\u001b[0m\n",
      "epoch    19: 100%|██████████| 20/20 [00:04<00:00,  4.60it/s, loss_train=0.275, acc_train=0.925, loss_test=0.29, acc_test=0.909] \n",
      "\u001b[32m[I 2020-10-20 01:54:22,780]\u001b[0m Trial 5 finished with value: 0.2902130503729916 and parameters: {'num_epoch': 20, 'batch_size': 8, 'learning_rate': 0.022125150004411637, 'lambda_1': 0.0, 'lambda_2': 0.0, 'num_fc_unit': 1, 'neuron_size': 50}. Best is trial 5 with value: 0.2902130503729916.\u001b[0m\n",
      "epoch    19: 100%|██████████| 20/20 [00:03<00:00,  5.24it/s, loss_train=0.213, acc_train=0.959, loss_test=0.264, acc_test=0.926]\n",
      "\u001b[32m[I 2020-10-20 01:54:26,602]\u001b[0m Trial 6 finished with value: 0.2643441894338229 and parameters: {'num_epoch': 20, 'batch_size': 8, 'learning_rate': 0.026995793234296312, 'lambda_1': 0.0, 'lambda_2': 0.0, 'num_fc_unit': 0, 'neuron_size': 100}. Best is trial 6 with value: 0.2643441894338229.\u001b[0m\n",
      "epoch    19: 100%|██████████| 20/20 [00:09<00:00,  2.09it/s, loss_train=0.357, acc_train=0.903, loss_test=0.52, acc_test=0.867]  \n",
      "\u001b[32m[I 2020-10-20 01:54:36,187]\u001b[0m Trial 7 finished with value: 0.5199623517109057 and parameters: {'num_epoch': 20, 'batch_size': 8, 'learning_rate': 0.08527816404253233, 'lambda_1': 0.0, 'lambda_2': 0.0, 'num_fc_unit': 1, 'neuron_size': 200}. Best is trial 6 with value: 0.2643441894338229.\u001b[0m\n",
      "epoch    19: 100%|██████████| 20/20 [00:01<00:00, 11.42it/s, loss_train=0.12, acc_train=0.977, loss_test=0.262, acc_test=0.917] \n",
      "\u001b[32m[I 2020-10-20 01:54:37,946]\u001b[0m Trial 8 finished with value: 0.26213730594991885 and parameters: {'num_epoch': 20, 'batch_size': 32, 'learning_rate': 0.0910037091137864, 'lambda_1': 0.0, 'lambda_2': 0.0, 'num_fc_unit': 1, 'neuron_size': 50}. Best is trial 8 with value: 0.26213730594991885.\u001b[0m\n",
      "epoch    19: 100%|██████████| 20/20 [00:04<00:00,  4.22it/s, loss_train=0.153, acc_train=0.976, loss_test=0.292, acc_test=0.95] \n",
      "\u001b[32m[I 2020-10-20 01:54:42,696]\u001b[0m Trial 9 finished with value: 0.29249526950597887 and parameters: {'num_epoch': 20, 'batch_size': 8, 'learning_rate': 0.020142206715848546, 'lambda_1': 0.0, 'lambda_2': 0.0, 'num_fc_unit': 0, 'neuron_size': 200}. Best is trial 8 with value: 0.26213730594991885.\u001b[0m\n",
      "epoch    19: 100%|██████████| 20/20 [00:02<00:00,  6.78it/s, loss_train=0.107, acc_train=0.988, loss_test=0.269, acc_test=0.941]\n",
      "\u001b[32m[I 2020-10-20 01:54:45,654]\u001b[0m Trial 10 finished with value: 0.2688427154313803 and parameters: {'num_epoch': 20, 'batch_size': 16, 'learning_rate': 0.06175664350290659, 'lambda_1': 0.0, 'lambda_2': 0.0, 'num_fc_unit': 0, 'neuron_size': 200}. Best is trial 8 with value: 0.26213730594991885.\u001b[0m\n",
      "epoch    19: 100%|██████████| 20/20 [00:02<00:00,  7.09it/s, loss_train=0.114, acc_train=0.974, loss_test=0.166, acc_test=0.941]\n",
      "\u001b[32m[I 2020-10-20 01:54:48,482]\u001b[0m Trial 11 finished with value: 0.1656641375305358 and parameters: {'num_epoch': 20, 'batch_size': 16, 'learning_rate': 0.0839538814366168, 'lambda_1': 0.0, 'lambda_2': 0.0, 'num_fc_unit': 1, 'neuron_size': 50}. Best is trial 11 with value: 0.1656641375305358.\u001b[0m\n",
      "epoch    19: 100%|██████████| 20/20 [00:10<00:00,  1.89it/s, loss_train=nan, acc_train=0.0931, loss_test=nan, acc_test=0.113]\n",
      "\u001b[32m[I 2020-10-20 01:54:59,094]\u001b[0m Trial 12 finished with value: inf and parameters: {'num_epoch': 20, 'batch_size': 8, 'learning_rate': 0.028328855784738816, 'lambda_1': 0.0, 'lambda_2': 0.0, 'num_fc_unit': 4, 'neuron_size': 100}. Best is trial 11 with value: 0.1656641375305358.\u001b[0m\n",
      "epoch    19: 100%|██████████| 20/20 [00:02<00:00,  8.03it/s, loss_train=0.159, acc_train=0.962, loss_test=0.267, acc_test=0.92] \n",
      "\u001b[32m[I 2020-10-20 01:55:01,592]\u001b[0m Trial 13 finished with value: 0.26650547011484804 and parameters: {'num_epoch': 20, 'batch_size': 16, 'learning_rate': 0.03766475721581549, 'lambda_1': 0.0, 'lambda_2': 0.0, 'num_fc_unit': 0, 'neuron_size': 100}. Best is trial 11 with value: 0.1656641375305358.\u001b[0m\n",
      "epoch    19: 100%|██████████| 20/20 [00:02<00:00,  7.66it/s, loss_train=0.0676, acc_train=0.99, loss_test=0.256, acc_test=0.93]  \n",
      "\u001b[32m[I 2020-10-20 01:55:04,210]\u001b[0m Trial 14 finished with value: 0.25595629045553586 and parameters: {'num_epoch': 20, 'batch_size': 32, 'learning_rate': 0.09863609141659664, 'lambda_1': 0.0, 'lambda_2': 0.0, 'num_fc_unit': 1, 'neuron_size': 100}. Best is trial 11 with value: 0.1656641375305358.\u001b[0m\n",
      "  0%|          | 0/20 [00:00<?, ?it/s]/mnt/c/Users/evama/zerokara/6_3-6_5/network/layers.py:35: RuntimeWarning: invalid value encountered in multiply\n",
      "  return dy * self.idx_greater_than_zero\n",
      "epoch    19: 100%|██████████| 20/20 [00:07<00:00,  2.68it/s, loss_train=nan, acc_train=0.103, loss_test=nan, acc_test=0.0907] \n",
      "\u001b[32m[I 2020-10-20 01:55:11,682]\u001b[0m Trial 15 finished with value: inf and parameters: {'num_epoch': 20, 'batch_size': 16, 'learning_rate': 0.07437076841841317, 'lambda_1': 0.0, 'lambda_2': 0.0, 'num_fc_unit': 2, 'neuron_size': 200}. Best is trial 11 with value: 0.1656641375305358.\u001b[0m\n",
      "epoch    19: 100%|██████████| 20/20 [00:08<00:00,  2.42it/s, loss_train=nan, acc_train=0.106, loss_test=nan, acc_test=0.0889] \n",
      "\u001b[32m[I 2020-10-20 01:55:19,960]\u001b[0m Trial 16 finished with value: inf and parameters: {'num_epoch': 20, 'batch_size': 32, 'learning_rate': 0.06380360699475005, 'lambda_1': 0.0, 'lambda_2': 0.0, 'num_fc_unit': 4, 'neuron_size': 200}. Best is trial 11 with value: 0.1656641375305358.\u001b[0m\n",
      "epoch    19: 100%|██████████| 20/20 [00:10<00:00,  1.96it/s, loss_train=nan, acc_train=0.0931, loss_test=nan, acc_test=0.113]\n",
      "\u001b[32m[I 2020-10-20 01:55:30,197]\u001b[0m Trial 17 finished with value: inf and parameters: {'num_epoch': 20, 'batch_size': 8, 'learning_rate': 0.06705881590495984, 'lambda_1': 0.0, 'lambda_2': 0.0, 'num_fc_unit': 4, 'neuron_size': 100}. Best is trial 11 with value: 0.1656641375305358.\u001b[0m\n",
      "  0%|          | 0/20 [00:00<?, ?it/s]/mnt/c/Users/evama/zerokara/6_3-6_5/network/layers.py:15: RuntimeWarning: invalid value encountered in matmul\n",
      "  return self.x @ self.params[\"w\"] + self.params[\"b\"]\n",
      "/home/wattai/miniconda3/envs/zerokara/lib/python3.8/site-packages/numpy/core/_methods.py:160: RuntimeWarning: overflow encountered in reduce\n",
      "  ret = umr_sum(arr, axis, dtype, out, keepdims)\n",
      "/home/wattai/miniconda3/envs/zerokara/lib/python3.8/site-packages/numpy/core/_methods.py:192: RuntimeWarning: overflow encountered in reduce\n",
      "  arrmean = umr_sum(arr, axis, dtype, keepdims=True)\n",
      "/mnt/c/Users/evama/zerokara/6_3-6_5/network/layers.py:48: RuntimeWarning: invalid value encountered in true_divide\n",
      "  self.x_hat = (x - self.mu) / np.sqrt(self.var + self.eps)\n",
      "epoch    19: 100%|██████████| 20/20 [00:07<00:00,  2.68it/s, loss_train=nan, acc_train=0.107, loss_test=nan, acc_test=0.0889]\n",
      "\u001b[32m[I 2020-10-20 01:55:37,674]\u001b[0m Trial 18 finished with value: inf and parameters: {'num_epoch': 20, 'batch_size': 16, 'learning_rate': 0.052910214079754526, 'lambda_1': 0.0, 'lambda_2': 0.0, 'num_fc_unit': 2, 'neuron_size': 200}. Best is trial 11 with value: 0.1656641375305358.\u001b[0m\n",
      "epoch    19: 100%|██████████| 20/20 [00:03<00:00,  6.35it/s, loss_train=0.194, acc_train=0.94, loss_test=0.233, acc_test=0.915] \n",
      "\u001b[32m[I 2020-10-20 01:55:40,828]\u001b[0m Trial 19 finished with value: 0.23299374594180666 and parameters: {'num_epoch': 20, 'batch_size': 8, 'learning_rate': 0.04945286342209928, 'lambda_1': 0.0, 'lambda_2': 0.0, 'num_fc_unit': 0, 'neuron_size': 50}. Best is trial 11 with value: 0.1656641375305358.\u001b[0m\n",
      "epoch    19: 100%|██████████| 20/20 [00:11<00:00,  1.69it/s, loss_train=nan, acc_train=0.101, loss_test=nan, acc_test=0.102]  \n",
      "\u001b[32m[I 2020-10-20 01:55:52,646]\u001b[0m Trial 20 finished with value: inf and parameters: {'num_epoch': 20, 'batch_size': 8, 'learning_rate': 0.056183939235485494, 'lambda_1': 0.0, 'lambda_2': 0.0, 'num_fc_unit': 2, 'neuron_size': 200}. Best is trial 11 with value: 0.1656641375305358.\u001b[0m\n",
      "epoch    19: 100%|██████████| 20/20 [00:04<00:00,  4.28it/s, loss_train=2.37, acc_train=0.146, loss_test=2.48, acc_test=0.133]\n",
      "\u001b[32m[I 2020-10-20 01:55:57,333]\u001b[0m Trial 21 finished with value: 2.484243994959511 and parameters: {'num_epoch': 20, 'batch_size': 32, 'learning_rate': 0.0945597741554866, 'lambda_1': 0.0, 'lambda_2': 0.0, 'num_fc_unit': 4, 'neuron_size': 100}. Best is trial 11 with value: 0.1656641375305358.\u001b[0m\n",
      "epoch    19: 100%|██████████| 20/20 [00:01<00:00, 10.83it/s, loss_train=0.157, acc_train=0.969, loss_test=0.307, acc_test=0.922]\n",
      "\u001b[32m[I 2020-10-20 01:55:59,187]\u001b[0m Trial 22 finished with value: 0.30707481603024134 and parameters: {'num_epoch': 20, 'batch_size': 32, 'learning_rate': 0.06650927011896815, 'lambda_1': 0.0, 'lambda_2': 0.0, 'num_fc_unit': 1, 'neuron_size': 50}. Best is trial 11 with value: 0.1656641375305358.\u001b[0m\n",
      "epoch    19: 100%|██████████| 20/20 [00:04<00:00,  4.23it/s, loss_train=0.205, acc_train=0.967, loss_test=0.249, acc_test=0.95] \n",
      "\u001b[32m[I 2020-10-20 01:56:03,923]\u001b[0m Trial 23 finished with value: 0.24884440011891534 and parameters: {'num_epoch': 20, 'batch_size': 8, 'learning_rate': 0.03156463207248571, 'lambda_1': 0.0, 'lambda_2': 0.0, 'num_fc_unit': 0, 'neuron_size': 200}. Best is trial 11 with value: 0.1656641375305358.\u001b[0m\n",
      "epoch    19: 100%|██████████| 20/20 [00:01<00:00, 11.02it/s, loss_train=0.184, acc_train=0.959, loss_test=0.271, acc_test=0.915]\n",
      "\u001b[32m[I 2020-10-20 01:56:05,746]\u001b[0m Trial 24 finished with value: 0.27142072714793886 and parameters: {'num_epoch': 20, 'batch_size': 32, 'learning_rate': 0.0800906018100433, 'lambda_1': 0.0, 'lambda_2': 0.0, 'num_fc_unit': 1, 'neuron_size': 50}. Best is trial 11 with value: 0.1656641375305358.\u001b[0m\n",
      "epoch    19: 100%|██████████| 20/20 [00:02<00:00,  6.89it/s, loss_train=0.23, acc_train=0.954, loss_test=0.308, acc_test=0.909] \n",
      "\u001b[32m[I 2020-10-20 01:56:08,656]\u001b[0m Trial 25 finished with value: 0.30840346233576993 and parameters: {'num_epoch': 20, 'batch_size': 16, 'learning_rate': 0.033118190797571855, 'lambda_1': 0.0, 'lambda_2': 0.0, 'num_fc_unit': 1, 'neuron_size': 50}. Best is trial 11 with value: 0.1656641375305358.\u001b[0m\n",
      "epoch    19: 100%|██████████| 20/20 [00:10<00:00,  1.97it/s, loss_train=0.0995, acc_train=0.978, loss_test=0.361, acc_test=0.926]\n",
      "\u001b[32m[I 2020-10-20 01:56:18,835]\u001b[0m Trial 26 finished with value: 0.3605762744553833 and parameters: {'num_epoch': 20, 'batch_size': 8, 'learning_rate': 0.09518227796312627, 'lambda_1': 0.0, 'lambda_2': 0.0, 'num_fc_unit': 1, 'neuron_size': 200}. Best is trial 11 with value: 0.1656641375305358.\u001b[0m\n",
      "epoch    19: 100%|██████████| 20/20 [00:11<00:00,  1.69it/s, loss_train=nan, acc_train=0.0891, loss_test=nan, acc_test=0.115] \n",
      "\u001b[32m[I 2020-10-20 01:56:30,704]\u001b[0m Trial 27 finished with value: inf and parameters: {'num_epoch': 20, 'batch_size': 8, 'learning_rate': 0.0777151372055877, 'lambda_1': 0.0, 'lambda_2': 0.0, 'num_fc_unit': 2, 'neuron_size': 200}. Best is trial 11 with value: 0.1656641375305358.\u001b[0m\n",
      "epoch    19: 100%|██████████| 20/20 [00:11<00:00,  1.68it/s, loss_train=nan, acc_train=0.101, loss_test=nan, acc_test=0.102]  \n",
      "\u001b[32m[I 2020-10-20 01:56:42,585]\u001b[0m Trial 28 finished with value: inf and parameters: {'num_epoch': 20, 'batch_size': 8, 'learning_rate': 0.011890547585505232, 'lambda_1': 0.0, 'lambda_2': 0.0, 'num_fc_unit': 2, 'neuron_size': 200}. Best is trial 11 with value: 0.1656641375305358.\u001b[0m\n",
      "epoch    19: 100%|██████████| 20/20 [00:04<00:00,  4.63it/s, loss_train=0.18, acc_train=0.97, loss_test=0.514, acc_test=0.915]  \n",
      "\u001b[32m[I 2020-10-20 01:56:46,914]\u001b[0m Trial 29 finished with value: 0.5138024526692426 and parameters: {'num_epoch': 20, 'batch_size': 32, 'learning_rate': 0.02052037158472059, 'lambda_1': 0.0, 'lambda_2': 0.0, 'num_fc_unit': 1, 'neuron_size': 200}. Best is trial 11 with value: 0.1656641375305358.\u001b[0m\n",
      "  0%|          | 0/20 [00:00<?, ?it/s]/mnt/c/Users/evama/zerokara/6_3-6_5/network/layers.py:49: RuntimeWarning: invalid value encountered in multiply\n",
      "  return self.params[\"gamma\"] * self.x_hat + self.params[\"beta\"]\n",
      "epoch    19: 100%|██████████| 20/20 [00:04<00:00,  4.61it/s, loss_train=nan, acc_train=0.103, loss_test=nan, acc_test=0.0907] \n",
      "\u001b[32m[I 2020-10-20 01:56:51,258]\u001b[0m Trial 30 finished with value: inf and parameters: {'num_epoch': 20, 'batch_size': 32, 'learning_rate': 0.09397202401948636, 'lambda_1': 0.0, 'lambda_2': 0.0, 'num_fc_unit': 4, 'neuron_size': 100}. Best is trial 11 with value: 0.1656641375305358.\u001b[0m\n",
      "epoch    19: 100%|██████████| 20/20 [00:01<00:00, 16.67it/s, loss_train=0.31, acc_train=0.928, loss_test=0.393, acc_test=0.87]  \n",
      "\u001b[32m[I 2020-10-20 01:56:52,464]\u001b[0m Trial 31 finished with value: 0.39345694229192424 and parameters: {'num_epoch': 20, 'batch_size': 32, 'learning_rate': 0.0392044636709969, 'lambda_1': 0.0, 'lambda_2': 0.0, 'num_fc_unit': 0, 'neuron_size': 50}. Best is trial 11 with value: 0.1656641375305358.\u001b[0m\n",
      "epoch    19: 100%|██████████| 20/20 [00:02<00:00,  7.99it/s, loss_train=0.0714, acc_train=0.988, loss_test=0.167, acc_test=0.944]\n",
      "\u001b[32m[I 2020-10-20 01:56:54,973]\u001b[0m Trial 32 finished with value: 0.16664865320053504 and parameters: {'num_epoch': 20, 'batch_size': 32, 'learning_rate': 0.07987933473625833, 'lambda_1': 0.0, 'lambda_2': 0.0, 'num_fc_unit': 1, 'neuron_size': 100}. Best is trial 11 with value: 0.1656641375305358.\u001b[0m\n",
      "epoch    19: 100%|██████████| 20/20 [00:09<00:00,  2.08it/s, loss_train=0.0451, acc_train=0.994, loss_test=0.143, acc_test=0.963]\n",
      "\u001b[32m[I 2020-10-20 01:57:04,601]\u001b[0m Trial 33 finished with value: 0.1428256223254117 and parameters: {'num_epoch': 20, 'batch_size': 8, 'learning_rate': 0.06621607763646041, 'lambda_1': 0.0, 'lambda_2': 0.0, 'num_fc_unit': 1, 'neuron_size': 200}. Best is trial 33 with value: 0.1428256223254117.\u001b[0m\n",
      "epoch    19: 100%|██████████| 20/20 [00:10<00:00,  1.83it/s, loss_train=0.161, acc_train=0.963, loss_test=0.312, acc_test=0.926]\n",
      "\u001b[32m[I 2020-10-20 01:57:15,544]\u001b[0m Trial 34 finished with value: 0.3123460886272117 and parameters: {'num_epoch': 20, 'batch_size': 8, 'learning_rate': 0.08147012546620692, 'lambda_1': 0.0, 'lambda_2': 0.0, 'num_fc_unit': 1, 'neuron_size': 200}. Best is trial 33 with value: 0.1428256223254117.\u001b[0m\n",
      "epoch    19: 100%|██████████| 20/20 [00:10<00:00,  1.83it/s, loss_train=nan, acc_train=0.101, loss_test=nan, acc_test=0.102]  \n",
      "\u001b[32m[I 2020-10-20 01:57:26,459]\u001b[0m Trial 35 finished with value: inf and parameters: {'num_epoch': 20, 'batch_size': 8, 'learning_rate': 0.07308796703156625, 'lambda_1': 0.0, 'lambda_2': 0.0, 'num_fc_unit': 4, 'neuron_size': 100}. Best is trial 33 with value: 0.1428256223254117.\u001b[0m\n",
      "epoch    19: 100%|██████████| 20/20 [00:03<00:00,  5.12it/s, loss_train=1.15, acc_train=0.757, loss_test=1.31, acc_test=0.735]\n",
      "\u001b[32m[I 2020-10-20 01:57:30,369]\u001b[0m Trial 36 finished with value: 1.3078791499908258 and parameters: {'num_epoch': 20, 'batch_size': 8, 'learning_rate': 0.0017071842526208511, 'lambda_1': 0.0, 'lambda_2': 0.0, 'num_fc_unit': 0, 'neuron_size': 100}. Best is trial 33 with value: 0.1428256223254117.\u001b[0m\n",
      "epoch    19: 100%|██████████| 20/20 [00:09<00:00,  2.08it/s, loss_train=3.35, acc_train=0.493, loss_test=3.65, acc_test=0.5]  \n",
      "\u001b[32m[I 2020-10-20 01:57:40,011]\u001b[0m Trial 37 finished with value: 3.6461467755223356 and parameters: {'num_epoch': 20, 'batch_size': 32, 'learning_rate': 0.006494450808159544, 'lambda_1': 0.0, 'lambda_2': 0.0, 'num_fc_unit': 4, 'neuron_size': 200}. Best is trial 33 with value: 0.1428256223254117.\u001b[0m\n",
      "epoch    19: 100%|██████████| 20/20 [00:10<00:00,  1.87it/s, loss_train=nan, acc_train=0.104, loss_test=nan, acc_test=0.0963]\n",
      "\u001b[32m[I 2020-10-20 01:57:50,712]\u001b[0m Trial 38 finished with value: inf and parameters: {'num_epoch': 20, 'batch_size': 8, 'learning_rate': 0.0942391175509534, 'lambda_1': 0.0, 'lambda_2': 0.0, 'num_fc_unit': 4, 'neuron_size': 100}. Best is trial 33 with value: 0.1428256223254117.\u001b[0m\n",
      "epoch    19: 100%|██████████| 20/20 [00:10<00:00,  1.92it/s, loss_train=nan, acc_train=0.0986, loss_test=nan, acc_test=0.0981]\n",
      "\u001b[32m[I 2020-10-20 01:58:01,144]\u001b[0m Trial 39 finished with value: inf and parameters: {'num_epoch': 20, 'batch_size': 8, 'learning_rate': 0.05850389357102425, 'lambda_1': 0.0, 'lambda_2': 0.0, 'num_fc_unit': 4, 'neuron_size': 100}. Best is trial 33 with value: 0.1428256223254117.\u001b[0m\n",
      "epoch    19: 100%|██████████| 20/20 [00:11<00:00,  1.73it/s, loss_train=nan, acc_train=0.101, loss_test=nan, acc_test=0.102]  \n",
      "\u001b[32m[I 2020-10-20 01:58:12,741]\u001b[0m Trial 40 finished with value: inf and parameters: {'num_epoch': 20, 'batch_size': 16, 'learning_rate': 0.02318378505768562, 'lambda_1': 0.0, 'lambda_2': 0.0, 'num_fc_unit': 4, 'neuron_size': 200}. Best is trial 33 with value: 0.1428256223254117.\u001b[0m\n",
      "epoch    19: 100%|██████████| 20/20 [00:02<00:00,  6.85it/s, loss_train=1.03, acc_train=0.84, loss_test=1.12, acc_test=0.833] \n",
      "\u001b[32m[I 2020-10-20 01:58:15,667]\u001b[0m Trial 41 finished with value: 1.1189521917564387 and parameters: {'num_epoch': 20, 'batch_size': 16, 'learning_rate': 0.002896509635752318, 'lambda_1': 0.0, 'lambda_2': 0.0, 'num_fc_unit': 0, 'neuron_size': 200}. Best is trial 33 with value: 0.1428256223254117.\u001b[0m\n",
      "epoch    19: 100%|██████████| 20/20 [00:06<00:00,  2.98it/s, loss_train=nan, acc_train=0.0986, loss_test=nan, acc_test=0.0981]\n",
      "\u001b[32m[I 2020-10-20 01:58:22,393]\u001b[0m Trial 42 finished with value: inf and parameters: {'num_epoch': 20, 'batch_size': 8, 'learning_rate': 0.022837386874346693, 'lambda_1': 0.0, 'lambda_2': 0.0, 'num_fc_unit': 2, 'neuron_size': 100}. Best is trial 33 with value: 0.1428256223254117.\u001b[0m\n",
      "  0%|          | 0/20 [00:00<?, ?it/s]/mnt/c/Users/evama/zerokara/6_3-6_5/network/layers.py:54: RuntimeWarning: overflow encountered in true_divide\n",
      "  coefficient = self.params[\"gamma\"] / np.sqrt(self.var + self.eps)\n",
      "epoch    19: 100%|██████████| 20/20 [00:06<00:00,  3.16it/s, loss_train=nan, acc_train=0.0986, loss_test=nan, acc_test=0.0981]\n",
      "\u001b[32m[I 2020-10-20 01:58:28,721]\u001b[0m Trial 43 finished with value: inf and parameters: {'num_epoch': 20, 'batch_size': 16, 'learning_rate': 0.09753882843455446, 'lambda_1': 0.0, 'lambda_2': 0.0, 'num_fc_unit': 4, 'neuron_size': 100}. Best is trial 33 with value: 0.1428256223254117.\u001b[0m\n",
      "epoch    19: 100%|██████████| 20/20 [00:02<00:00,  8.41it/s, loss_train=0.0824, acc_train=0.984, loss_test=0.242, acc_test=0.928]\n",
      "\u001b[32m[I 2020-10-20 01:58:31,106]\u001b[0m Trial 44 finished with value: 0.24225198852569116 and parameters: {'num_epoch': 20, 'batch_size': 32, 'learning_rate': 0.0877933920879819, 'lambda_1': 0.0, 'lambda_2': 0.0, 'num_fc_unit': 1, 'neuron_size': 100}. Best is trial 33 with value: 0.1428256223254117.\u001b[0m\n",
      "epoch    19: 100%|██████████| 20/20 [00:07<00:00,  2.56it/s, loss_train=nan, acc_train=0.101, loss_test=nan, acc_test=0.102] \n",
      "\u001b[32m[I 2020-10-20 01:58:38,919]\u001b[0m Trial 45 finished with value: inf and parameters: {'num_epoch': 20, 'batch_size': 32, 'learning_rate': 0.06332613654964749, 'lambda_1': 0.0, 'lambda_2': 0.0, 'num_fc_unit': 4, 'neuron_size': 200}. Best is trial 33 with value: 0.1428256223254117.\u001b[0m\n",
      "epoch    19: 100%|██████████| 20/20 [00:11<00:00,  1.77it/s, loss_train=nan, acc_train=0.0931, loss_test=nan, acc_test=0.113] \n",
      "\u001b[32m[I 2020-10-20 01:58:50,237]\u001b[0m Trial 46 finished with value: inf and parameters: {'num_epoch': 20, 'batch_size': 8, 'learning_rate': 0.058924880464816504, 'lambda_1': 0.0, 'lambda_2': 0.0, 'num_fc_unit': 2, 'neuron_size': 200}. Best is trial 33 with value: 0.1428256223254117.\u001b[0m\n",
      "epoch    19: 100%|██████████| 20/20 [00:03<00:00,  6.52it/s, loss_train=0.122, acc_train=0.971, loss_test=0.119, acc_test=0.959]\n",
      "\u001b[32m[I 2020-10-20 01:58:53,312]\u001b[0m Trial 47 finished with value: 0.11868321277002541 and parameters: {'num_epoch': 20, 'batch_size': 8, 'learning_rate': 0.08097571047031088, 'lambda_1': 0.0, 'lambda_2': 0.0, 'num_fc_unit': 0, 'neuron_size': 50}. Best is trial 47 with value: 0.11868321277002541.\u001b[0m\n",
      "epoch    19: 100%|██████████| 20/20 [00:02<00:00,  6.94it/s, loss_train=0.68, acc_train=0.889, loss_test=0.891, acc_test=0.863] \n",
      "\u001b[32m[I 2020-10-20 01:58:56,199]\u001b[0m Trial 48 finished with value: 0.8908087119262315 and parameters: {'num_epoch': 20, 'batch_size': 16, 'learning_rate': 0.004517351678205973, 'lambda_1': 0.0, 'lambda_2': 0.0, 'num_fc_unit': 0, 'neuron_size': 200}. Best is trial 47 with value: 0.11868321277002541.\u001b[0m\n",
      "epoch    19: 100%|██████████| 20/20 [00:04<00:00,  4.63it/s, loss_train=nan, acc_train=0.106, loss_test=nan, acc_test=0.0889] \n",
      "\u001b[32m[I 2020-10-20 01:59:00,528]\u001b[0m Trial 49 finished with value: inf and parameters: {'num_epoch': 20, 'batch_size': 32, 'learning_rate': 0.005431859823668763, 'lambda_1': 0.0, 'lambda_2': 0.0, 'num_fc_unit': 4, 'neuron_size': 100}. Best is trial 47 with value: 0.11868321277002541.\u001b[0m\n"
     ]
    }
   ],
   "source": [
    "# Execute an optimization by using an `Objective` instance.\n",
    "study = optuna.create_study(sampler=optuna.samplers.RandomSampler(seed=7))\n",
    "study.optimize(obj_optuna, n_trials=50)"
   ]
  },
  {
   "cell_type": "markdown",
   "metadata": {},
   "source": [
    "### ベストパラメータ"
   ]
  },
  {
   "cell_type": "code",
   "execution_count": 30,
   "metadata": {},
   "outputs": [
    {
     "data": {
      "text/plain": [
       "{'num_epoch': 20,\n",
       " 'batch_size': 8,\n",
       " 'learning_rate': 0.08097571047031088,\n",
       " 'lambda_1': 0.0,\n",
       " 'lambda_2': 0.0,\n",
       " 'num_fc_unit': 0,\n",
       " 'neuron_size': 50}"
      ]
     },
     "execution_count": 30,
     "metadata": {},
     "output_type": "execute_result"
    }
   ],
   "source": [
    "study.best_params"
   ]
  },
  {
   "cell_type": "code",
   "execution_count": 31,
   "metadata": {},
   "outputs": [
    {
     "data": {
      "text/plain": [
       "0.11868321277002541"
      ]
     },
     "execution_count": 31,
     "metadata": {},
     "output_type": "execute_result"
    }
   ],
   "source": [
    "study.best_value"
   ]
  },
  {
   "cell_type": "code",
   "execution_count": null,
   "metadata": {},
   "outputs": [],
   "source": []
  }
 ],
 "metadata": {
  "kernelspec": {
   "display_name": "Python 3",
   "language": "python",
   "name": "python3"
  },
  "language_info": {
   "codemirror_mode": {
    "name": "ipython",
    "version": 3
   },
   "file_extension": ".py",
   "mimetype": "text/x-python",
   "name": "python",
   "nbconvert_exporter": "python",
   "pygments_lexer": "ipython3",
   "version": "3.8.5"
  }
 },
 "nbformat": 4,
 "nbformat_minor": 4
}
