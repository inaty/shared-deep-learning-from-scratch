{
 "cells": [
  {
   "cell_type": "markdown",
   "metadata": {},
   "source": [
    "## 3.4 3層ニューラルネットワークの実装\n",
    "- \"実践的\"なニューラルネットワークの実装を行う\n",
    "- Numpy 配列をうまく使うことで，ほんの少しのコードでニューラルネットワークのフォワード処理を完成させられる\n",
    "- 3層ニューラルネットワーク（図3-15）を対象とする"
   ]
  },
  {
   "cell_type": "markdown",
   "metadata": {},
   "source": [
    "補足\n",
    "- フォワード処理: あとでこの計算過程を逆に辿りながら，値を更新するバックワード（後進）処理があるため，ここではフォワード（前進）処理と読んでいる"
   ]
  },
  {
   "cell_type": "markdown",
   "metadata": {},
   "source": [
    "### 3.4.1 記号の確認\n",
    "- $x_{1}, x_{2}$: ニューロン（入力値）\n",
    "- $a_{1}^{(1)}$: 第1層目の1番目のニューロン（出力値）\n",
    "- $w_{12}^{(1)}$: 前層の2番目のニューロンから次層の1番目のニューロンへの重み\n",
    "- $$\n"
   ]
  },
  {
   "cell_type": "markdown",
   "metadata": {},
   "source": [
    "### 3.4.2 各層における信号伝達の実装\n",
    "- 入力層から「第1層目の1番目のニューロン」への信号の伝達に着目（図3-17）\n",
    "- この信号の伝達を式で表して，実際にプログラムで計算する\n",
    "- 行列で表すと簡単にプログラムが書けるし，計算も速い"
   ]
  },
  {
   "cell_type": "markdown",
   "metadata": {},
   "source": [
    "#### 信号伝達を式で表す"
   ]
  },
  {
   "cell_type": "markdown",
   "metadata": {},
   "source": [
    "まず $a_{1}^{(1)}$ の計算は次のように表される．\n",
    "\n",
    "$$a_{1}^{(1)} = w_{11}^{(1)} x_{1} + w_{12}^{(1)} x_{2} + b_{1}^{(1)}$$\n"
   ]
  },
  {
   "cell_type": "markdown",
   "metadata": {},
   "source": [
    "同じように $a_{2}^{(1)}, a_{3}^{(1)}$ の計算は次のように表される．\n",
    "\n",
    "$$\n",
    "a_{2}^{(1)} = w_{21}^{(1)} x_{1} + w_{22}^{(1)} x_{2} + b_{2}^{(1)}\n",
    "$$\n",
    "\n",
    "$$\n",
    "a_{3}^{(1)} = w_{31}^{(1)} x_{1} + w_{32}^{(1)} x_{2} + b_{3}^{(1)}\n",
    "$$\n"
   ]
  },
  {
   "cell_type": "markdown",
   "metadata": {},
   "source": [
    "これらを行列を使ってまとめると次のように表される．\n",
    "\n",
    "$$\n",
    "\\left(\\begin{array}{ccc} a_{1}^{(1)} & a_{2}^{(1)} & a_{2}^{(1)} \\end{array}\\right)\n",
    "    = \\left(\\begin{array}{cc} x_{1} & x_{2} \\end{array}\\right)\n",
    "    \\left(\\begin{array}{ccc}\n",
    "        w_{11}^{(1)} & w_{21}^{(1)} & w_{31}^{(1)} \\\\\n",
    "        w_{12}^{(1)} & w_{22}^{(1)} & w_{32}^{(1)} \\\\\n",
    "    \\end{array}\\right)\n",
    "    + \\left(\\begin{array}{ccc} b_{1}^{(1)} & b_{2}^{(1)} & b_{3}^{(1)} \\end{array}\\right)\n",
    "$$\n",
    "\n",
    "$$\n",
    "A^{(1)} = X W^{(1)} + B^{(1)}\n",
    "$$\n",
    "\n",
    "これで Numpy 配列の行列計算を使って楽に実装できそう！\n"
   ]
  },
  {
   "cell_type": "markdown",
   "metadata": {},
   "source": [
    "余談：どうしてこんなわざわざ行列を使った表現にするのか？\n",
    "- Numpy 配列などを使って簡単にプログラムが書ける\n",
    "- 行列計算のために作られたハードウェアに処理を任せることで高速に計算が行える"
   ]
  },
  {
   "cell_type": "markdown",
   "metadata": {},
   "source": [
    "#### 入力層 -> 第1層の実装（図3-18）\n",
    "- Numpy 配列を使って簡単に行列計算が書ける"
   ]
  },
  {
   "cell_type": "code",
   "execution_count": 1,
   "metadata": {},
   "outputs": [],
   "source": [
    "import numpy as np"
   ]
  },
  {
   "cell_type": "code",
   "execution_count": 2,
   "metadata": {},
   "outputs": [],
   "source": [
    "# Numpy 配列の定義\n",
    "X = np.array([1.0, 0.5])  # データの定義\n",
    "W1 = np.array([[0.1, 0.3, 0.5], [0.2, 0.4, 0.6]])  # 重みの定義（入力層 -> 第1層）\n",
    "B1 = np.array([0.1, 0.2, 0.3])  # バイアスの定義（入力層 -> 第1層）"
   ]
  },
  {
   "cell_type": "code",
   "execution_count": 3,
   "metadata": {},
   "outputs": [
    {
     "output_type": "execute_result",
     "data": {
      "text/plain": "(2,)"
     },
     "metadata": {},
     "execution_count": 3
    }
   ],
   "source": [
    "X.shape  # データの形"
   ]
  },
  {
   "cell_type": "code",
   "execution_count": 4,
   "metadata": {},
   "outputs": [
    {
     "output_type": "execute_result",
     "data": {
      "text/plain": "(2, 3)"
     },
     "metadata": {},
     "execution_count": 4
    }
   ],
   "source": [
    "W1.shape  # 重みの形"
   ]
  },
  {
   "cell_type": "code",
   "execution_count": 5,
   "metadata": {},
   "outputs": [
    {
     "output_type": "execute_result",
     "data": {
      "text/plain": "(3,)"
     },
     "metadata": {},
     "execution_count": 5
    }
   ],
   "source": [
    "B1.shape  # バイアスの形"
   ]
  },
  {
   "cell_type": "code",
   "execution_count": 6,
   "metadata": {},
   "outputs": [],
   "source": [
    "# フォワード処理（入力層 -> 第1層）\n",
    "# 形は (3,) = (2,) (2, 3) + (3,)\n",
    "A1 = np.dot(X, W1) + B1"
   ]
  },
  {
   "cell_type": "code",
   "execution_count": 7,
   "metadata": {},
   "outputs": [
    {
     "output_type": "execute_result",
     "data": {
      "text/plain": "array([0.3, 0.7, 1.1])"
     },
     "metadata": {},
     "execution_count": 7
    }
   ],
   "source": [
    "A1  # 計算結果"
   ]
  },
  {
   "cell_type": "code",
   "execution_count": 8,
   "metadata": {},
   "outputs": [],
   "source": [
    "# 活性化関数の定義\n",
    "def sigmoid(x):\n",
    "    return 1 / (1 + np.exp(-x))"
   ]
  },
  {
   "cell_type": "code",
   "execution_count": 9,
   "metadata": {},
   "outputs": [],
   "source": [
    "#### 活性化関数\n",
    "Z1 = sigmoid(A1)"
   ]
  },
  {
   "cell_type": "code",
   "execution_count": 10,
   "metadata": {},
   "outputs": [
    {
     "output_type": "execute_result",
     "data": {
      "text/plain": "array([0.57444252, 0.66818777, 0.75026011])"
     },
     "metadata": {},
     "execution_count": 10
    }
   ],
   "source": [
    "Z1  # 計算結果"
   ]
  },
  {
   "cell_type": "markdown",
   "metadata": {},
   "source": [
    "#### 第1層 -> 第2層の実装（図3-19）\n",
    "- 要素数が違うにも関わらず同じ書き方で計算を行うことができる"
   ]
  },
  {
   "cell_type": "code",
   "execution_count": 11,
   "metadata": {},
   "outputs": [],
   "source": [
    "# 第1層から第2層に信号を伝達する，重みとバイアスの定義\n",
    "W2 = np.array([[0.1, 0.4], [0.2, 0.5], [0.3, 0.6]])  # 重みの定義（第1層 -> 第2層）\n",
    "B2 = np.array([0.1, 0.2])  # バイアスの定義（第1層 -> 第2層）"
   ]
  },
  {
   "cell_type": "code",
   "execution_count": 12,
   "metadata": {},
   "outputs": [
    {
     "output_type": "execute_result",
     "data": {
      "text/plain": "(3,)"
     },
     "metadata": {},
     "execution_count": 12
    }
   ],
   "source": [
    "Z1.shape  # データの形"
   ]
  },
  {
   "cell_type": "code",
   "execution_count": 13,
   "metadata": {},
   "outputs": [
    {
     "output_type": "execute_result",
     "data": {
      "text/plain": "(3, 2)"
     },
     "metadata": {},
     "execution_count": 13
    }
   ],
   "source": [
    "W2.shape  # 重みの形"
   ]
  },
  {
   "cell_type": "code",
   "execution_count": 14,
   "metadata": {},
   "outputs": [
    {
     "output_type": "execute_result",
     "data": {
      "text/plain": "(2,)"
     },
     "metadata": {},
     "execution_count": 14
    }
   ],
   "source": [
    "B2.shape  # バイアスの形"
   ]
  },
  {
   "cell_type": "code",
   "execution_count": 15,
   "metadata": {},
   "outputs": [],
   "source": [
    "# フォワード処理（第1層 -> 第2層）\n",
    "A2 = np.dot(Z1, W2) + B2\n",
    "Z2 = sigmoid(A2)"
   ]
  },
  {
   "cell_type": "markdown",
   "metadata": {},
   "source": [
    "要素数が違っても同じ書き方で計算が行える！"
   ]
  },
  {
   "cell_type": "markdown",
   "metadata": {},
   "source": [
    "#### 第2層 -> 出力層の実装（図3-20）\n",
    "- 最後の活性化関数だけが違う（sigmoid function ではなく identity function を使う）"
   ]
  },
  {
   "cell_type": "code",
   "execution_count": 16,
   "metadata": {},
   "outputs": [],
   "source": [
    "# 第2層から出力層に信号を伝達する，重みとバイアスの定義\n",
    "W3 = np.array([[0.1, 0.3], [0.2, 0.4]])  # 重みの定義（第2層 -> 出力層）\n",
    "B3 = np.array([0.1, 0.2])  # バイアスの定義（第2層 -> 出力層）"
   ]
  },
  {
   "cell_type": "code",
   "execution_count": 17,
   "metadata": {},
   "outputs": [],
   "source": [
    "# 活性化関数（恒等関数）の定義\n",
    "def identity_function(x):\n",
    "    return x"
   ]
  },
  {
   "cell_type": "code",
   "execution_count": 18,
   "metadata": {},
   "outputs": [],
   "source": [
    "# フォワード処理\n",
    "A3 = np.dot(Z2, W3) + B3\n",
    "Y = identity_function(A3)"
   ]
  },
  {
   "cell_type": "code",
   "execution_count": 19,
   "metadata": {},
   "outputs": [
    {
     "output_type": "execute_result",
     "data": {
      "text/plain": "array([0.31682708, 0.69627909])"
     },
     "metadata": {},
     "execution_count": 19
    }
   ],
   "source": [
    "A3"
   ]
  },
  {
   "cell_type": "code",
   "execution_count": 20,
   "metadata": {},
   "outputs": [
    {
     "output_type": "execute_result",
     "data": {
      "text/plain": "array([0.31682708, 0.69627909])"
     },
     "metadata": {},
     "execution_count": 20
    }
   ],
   "source": [
    "Y"
   ]
  },
  {
   "cell_type": "markdown",
   "metadata": {},
   "source": [
    "### 3.4.3 実装のまとめ\n",
    "- これまでの実装をまとめて関数にする\n",
    "- ネットワークの初期化とフォワード処理で関数を分けると便利\n",
    "- Numpy を使ってニューラルネットワークの実装を効率的に行えることを確認"
   ]
  },
  {
   "cell_type": "code",
   "execution_count": 21,
   "metadata": {},
   "outputs": [],
   "source": [
    "def init_network():\n",
    "    network = {}\n",
    "    network['W1'] = np.array([[0.1, 0.3, 0.5], [0.2, 0.4, 0.6]])\n",
    "    network['b1'] = np.array([0.1, 0.2, 0.3])\n",
    "    network['W2'] = np.array([[0.1, 0.4], [0.2, 0.5], [0.3, 0.6]])\n",
    "    network['b2'] = np.array([0.1, 0.2])\n",
    "    network['W3'] = np.array([[0.1, 0.3], [0.2, 0.4]])\n",
    "    network['b3'] = np.array([0.1, 0.2])\n",
    "\n",
    "    return network"
   ]
  },
  {
   "cell_type": "code",
   "execution_count": 22,
   "metadata": {},
   "outputs": [],
   "source": [
    "def forward(network, x):\n",
    "    W1, W2, W3 = network['W1'], network['W2'], network['W3']\n",
    "    b1, b2, b3 = network['b1'], network['b2'], network['b3']\n",
    "\n",
    "    a1 = np.dot(x, W1) + b1\n",
    "    z1 = sigmoid(a1)\n",
    "    a2 = np.dot(z1, W2) + b2\n",
    "    z2 = sigmoid(a2)\n",
    "    a3 = np.dot(z2, W3) + b3\n",
    "    y = identity_function(a3)\n",
    "\n",
    "    return y"
   ]
  },
  {
   "cell_type": "code",
   "execution_count": 23,
   "metadata": {},
   "outputs": [],
   "source": [
    "network = init_network()  # ネットワークの定義・初期化\n",
    "x = np.array([1.0, 0.5])  # 入力層の定義\n",
    "y = forward(network, x)  # 出力層の計算（フォワード処理）"
   ]
  },
  {
   "cell_type": "code",
   "execution_count": 24,
   "metadata": {},
   "outputs": [
    {
     "output_type": "execute_result",
     "data": {
      "text/plain": "array([0.31682708, 0.69627909])"
     },
     "metadata": {},
     "execution_count": 24
    }
   ],
   "source": [
    "y  # 出力層の確認"
   ]
  },
  {
   "cell_type": "code",
   "execution_count": null,
   "metadata": {},
   "outputs": [],
   "source": []
  }
 ],
 "metadata": {
  "language_info": {
   "codemirror_mode": {
    "name": "ipython",
    "version": 3
   },
   "file_extension": ".py",
   "mimetype": "text/x-python",
   "name": "python",
   "nbconvert_exporter": "python",
   "pygments_lexer": "ipython3",
   "version": "3.6.4-final"
  },
  "orig_nbformat": 2,
  "kernelspec": {
   "name": "python3",
   "display_name": "Python 3"
  }
 },
 "nbformat": 4,
 "nbformat_minor": 2
}